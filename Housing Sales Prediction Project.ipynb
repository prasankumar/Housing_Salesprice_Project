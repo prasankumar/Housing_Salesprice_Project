{
 "cells": [
  {
   "cell_type": "markdown",
   "id": "665616b6",
   "metadata": {},
   "source": [
    "# Problem statment\n",
    "It is your job to predict the sales price for each house. For each Id in the test set, you must predict the value of the SalePrice variable.\n",
    "\n",
    "Metric Submissions are evaluated on Mean-Squared-Error (MSE). Submission File Format The file should contain a header and have the following format:\n",
    "\n",
    "Id,SalePrice\n",
    "1461,169000.1\n",
    "1462,187724.1233"
   ]
  },
  {
   "cell_type": "code",
   "execution_count": 1,
   "id": "f6e14877",
   "metadata": {},
   "outputs": [],
   "source": [
    "from warnings import filterwarnings\n",
    "filterwarnings(\"ignore\")"
   ]
  },
  {
   "cell_type": "code",
   "execution_count": 2,
   "id": "1d8f4f66",
   "metadata": {},
   "outputs": [],
   "source": [
    "from os import chdir\n",
    "chdir(\"F:/Etlhive/Housing_Salesprice_Project-main/\")"
   ]
  },
  {
   "cell_type": "markdown",
   "id": "f982aee3",
   "metadata": {},
   "source": [
    "Read Data Set"
   ]
  },
  {
   "cell_type": "code",
   "execution_count": 3,
   "id": "fa3059b6",
   "metadata": {},
   "outputs": [],
   "source": [
    "import pandas as pd\n",
    "train = pd.read_csv(\"training_set.csv\")\n",
    "test = pd.read_csv(\"testing_set.csv\")"
   ]
  },
  {
   "cell_type": "code",
   "execution_count": 4,
   "id": "a57535d7",
   "metadata": {},
   "outputs": [
    {
     "data": {
      "text/html": [
       "<div>\n",
       "<style scoped>\n",
       "    .dataframe tbody tr th:only-of-type {\n",
       "        vertical-align: middle;\n",
       "    }\n",
       "\n",
       "    .dataframe tbody tr th {\n",
       "        vertical-align: top;\n",
       "    }\n",
       "\n",
       "    .dataframe thead th {\n",
       "        text-align: right;\n",
       "    }\n",
       "</style>\n",
       "<table border=\"1\" class=\"dataframe\">\n",
       "  <thead>\n",
       "    <tr style=\"text-align: right;\">\n",
       "      <th></th>\n",
       "      <th>Id</th>\n",
       "      <th>MSSubClass</th>\n",
       "      <th>MSZoning</th>\n",
       "      <th>LotFrontage</th>\n",
       "      <th>LotArea</th>\n",
       "      <th>Street</th>\n",
       "      <th>Alley</th>\n",
       "      <th>LotShape</th>\n",
       "      <th>LandContour</th>\n",
       "      <th>Utilities</th>\n",
       "      <th>...</th>\n",
       "      <th>PoolArea</th>\n",
       "      <th>PoolQC</th>\n",
       "      <th>Fence</th>\n",
       "      <th>MiscFeature</th>\n",
       "      <th>MiscVal</th>\n",
       "      <th>MoSold</th>\n",
       "      <th>YrSold</th>\n",
       "      <th>SaleType</th>\n",
       "      <th>SaleCondition</th>\n",
       "      <th>SalePrice</th>\n",
       "    </tr>\n",
       "  </thead>\n",
       "  <tbody>\n",
       "    <tr>\n",
       "      <th>0</th>\n",
       "      <td>1</td>\n",
       "      <td>60</td>\n",
       "      <td>RL</td>\n",
       "      <td>65.0</td>\n",
       "      <td>8450</td>\n",
       "      <td>Pave</td>\n",
       "      <td>NaN</td>\n",
       "      <td>Reg</td>\n",
       "      <td>Lvl</td>\n",
       "      <td>AllPub</td>\n",
       "      <td>...</td>\n",
       "      <td>0</td>\n",
       "      <td>NaN</td>\n",
       "      <td>NaN</td>\n",
       "      <td>NaN</td>\n",
       "      <td>0</td>\n",
       "      <td>2</td>\n",
       "      <td>2008</td>\n",
       "      <td>WD</td>\n",
       "      <td>Normal</td>\n",
       "      <td>208500</td>\n",
       "    </tr>\n",
       "    <tr>\n",
       "      <th>1</th>\n",
       "      <td>2</td>\n",
       "      <td>20</td>\n",
       "      <td>RL</td>\n",
       "      <td>80.0</td>\n",
       "      <td>9600</td>\n",
       "      <td>Pave</td>\n",
       "      <td>NaN</td>\n",
       "      <td>Reg</td>\n",
       "      <td>Lvl</td>\n",
       "      <td>AllPub</td>\n",
       "      <td>...</td>\n",
       "      <td>0</td>\n",
       "      <td>NaN</td>\n",
       "      <td>NaN</td>\n",
       "      <td>NaN</td>\n",
       "      <td>0</td>\n",
       "      <td>5</td>\n",
       "      <td>2007</td>\n",
       "      <td>WD</td>\n",
       "      <td>Normal</td>\n",
       "      <td>181500</td>\n",
       "    </tr>\n",
       "    <tr>\n",
       "      <th>2</th>\n",
       "      <td>3</td>\n",
       "      <td>60</td>\n",
       "      <td>RL</td>\n",
       "      <td>68.0</td>\n",
       "      <td>11250</td>\n",
       "      <td>Pave</td>\n",
       "      <td>NaN</td>\n",
       "      <td>IR1</td>\n",
       "      <td>Lvl</td>\n",
       "      <td>AllPub</td>\n",
       "      <td>...</td>\n",
       "      <td>0</td>\n",
       "      <td>NaN</td>\n",
       "      <td>NaN</td>\n",
       "      <td>NaN</td>\n",
       "      <td>0</td>\n",
       "      <td>9</td>\n",
       "      <td>2008</td>\n",
       "      <td>WD</td>\n",
       "      <td>Normal</td>\n",
       "      <td>223500</td>\n",
       "    </tr>\n",
       "    <tr>\n",
       "      <th>3</th>\n",
       "      <td>4</td>\n",
       "      <td>70</td>\n",
       "      <td>RL</td>\n",
       "      <td>60.0</td>\n",
       "      <td>9550</td>\n",
       "      <td>Pave</td>\n",
       "      <td>NaN</td>\n",
       "      <td>IR1</td>\n",
       "      <td>Lvl</td>\n",
       "      <td>AllPub</td>\n",
       "      <td>...</td>\n",
       "      <td>0</td>\n",
       "      <td>NaN</td>\n",
       "      <td>NaN</td>\n",
       "      <td>NaN</td>\n",
       "      <td>0</td>\n",
       "      <td>2</td>\n",
       "      <td>2006</td>\n",
       "      <td>WD</td>\n",
       "      <td>Abnorml</td>\n",
       "      <td>140000</td>\n",
       "    </tr>\n",
       "    <tr>\n",
       "      <th>4</th>\n",
       "      <td>5</td>\n",
       "      <td>60</td>\n",
       "      <td>RL</td>\n",
       "      <td>84.0</td>\n",
       "      <td>14260</td>\n",
       "      <td>Pave</td>\n",
       "      <td>NaN</td>\n",
       "      <td>IR1</td>\n",
       "      <td>Lvl</td>\n",
       "      <td>AllPub</td>\n",
       "      <td>...</td>\n",
       "      <td>0</td>\n",
       "      <td>NaN</td>\n",
       "      <td>NaN</td>\n",
       "      <td>NaN</td>\n",
       "      <td>0</td>\n",
       "      <td>12</td>\n",
       "      <td>2008</td>\n",
       "      <td>WD</td>\n",
       "      <td>Normal</td>\n",
       "      <td>250000</td>\n",
       "    </tr>\n",
       "  </tbody>\n",
       "</table>\n",
       "<p>5 rows × 81 columns</p>\n",
       "</div>"
      ],
      "text/plain": [
       "   Id  MSSubClass MSZoning  LotFrontage  LotArea Street Alley LotShape  \\\n",
       "0   1          60       RL         65.0     8450   Pave   NaN      Reg   \n",
       "1   2          20       RL         80.0     9600   Pave   NaN      Reg   \n",
       "2   3          60       RL         68.0    11250   Pave   NaN      IR1   \n",
       "3   4          70       RL         60.0     9550   Pave   NaN      IR1   \n",
       "4   5          60       RL         84.0    14260   Pave   NaN      IR1   \n",
       "\n",
       "  LandContour Utilities  ... PoolArea PoolQC Fence MiscFeature MiscVal MoSold  \\\n",
       "0         Lvl    AllPub  ...        0    NaN   NaN         NaN       0      2   \n",
       "1         Lvl    AllPub  ...        0    NaN   NaN         NaN       0      5   \n",
       "2         Lvl    AllPub  ...        0    NaN   NaN         NaN       0      9   \n",
       "3         Lvl    AllPub  ...        0    NaN   NaN         NaN       0      2   \n",
       "4         Lvl    AllPub  ...        0    NaN   NaN         NaN       0     12   \n",
       "\n",
       "  YrSold  SaleType  SaleCondition  SalePrice  \n",
       "0   2008        WD         Normal     208500  \n",
       "1   2007        WD         Normal     181500  \n",
       "2   2008        WD         Normal     223500  \n",
       "3   2006        WD        Abnorml     140000  \n",
       "4   2008        WD         Normal     250000  \n",
       "\n",
       "[5 rows x 81 columns]"
      ]
     },
     "execution_count": 4,
     "metadata": {},
     "output_type": "execute_result"
    }
   ],
   "source": [
    "train.head()"
   ]
  },
  {
   "cell_type": "code",
   "execution_count": 5,
   "id": "12194f99",
   "metadata": {},
   "outputs": [
    {
     "data": {
      "text/html": [
       "<div>\n",
       "<style scoped>\n",
       "    .dataframe tbody tr th:only-of-type {\n",
       "        vertical-align: middle;\n",
       "    }\n",
       "\n",
       "    .dataframe tbody tr th {\n",
       "        vertical-align: top;\n",
       "    }\n",
       "\n",
       "    .dataframe thead th {\n",
       "        text-align: right;\n",
       "    }\n",
       "</style>\n",
       "<table border=\"1\" class=\"dataframe\">\n",
       "  <thead>\n",
       "    <tr style=\"text-align: right;\">\n",
       "      <th></th>\n",
       "      <th>Id</th>\n",
       "      <th>MSSubClass</th>\n",
       "      <th>MSZoning</th>\n",
       "      <th>LotFrontage</th>\n",
       "      <th>LotArea</th>\n",
       "      <th>Street</th>\n",
       "      <th>Alley</th>\n",
       "      <th>LotShape</th>\n",
       "      <th>LandContour</th>\n",
       "      <th>Utilities</th>\n",
       "      <th>...</th>\n",
       "      <th>ScreenPorch</th>\n",
       "      <th>PoolArea</th>\n",
       "      <th>PoolQC</th>\n",
       "      <th>Fence</th>\n",
       "      <th>MiscFeature</th>\n",
       "      <th>MiscVal</th>\n",
       "      <th>MoSold</th>\n",
       "      <th>YrSold</th>\n",
       "      <th>SaleType</th>\n",
       "      <th>SaleCondition</th>\n",
       "    </tr>\n",
       "  </thead>\n",
       "  <tbody>\n",
       "    <tr>\n",
       "      <th>0</th>\n",
       "      <td>1461</td>\n",
       "      <td>20</td>\n",
       "      <td>RH</td>\n",
       "      <td>80.0</td>\n",
       "      <td>11622</td>\n",
       "      <td>Pave</td>\n",
       "      <td>NaN</td>\n",
       "      <td>Reg</td>\n",
       "      <td>Lvl</td>\n",
       "      <td>AllPub</td>\n",
       "      <td>...</td>\n",
       "      <td>120</td>\n",
       "      <td>0</td>\n",
       "      <td>NaN</td>\n",
       "      <td>MnPrv</td>\n",
       "      <td>NaN</td>\n",
       "      <td>0</td>\n",
       "      <td>6</td>\n",
       "      <td>2010</td>\n",
       "      <td>WD</td>\n",
       "      <td>Normal</td>\n",
       "    </tr>\n",
       "    <tr>\n",
       "      <th>1</th>\n",
       "      <td>1462</td>\n",
       "      <td>20</td>\n",
       "      <td>RL</td>\n",
       "      <td>81.0</td>\n",
       "      <td>14267</td>\n",
       "      <td>Pave</td>\n",
       "      <td>NaN</td>\n",
       "      <td>IR1</td>\n",
       "      <td>Lvl</td>\n",
       "      <td>AllPub</td>\n",
       "      <td>...</td>\n",
       "      <td>0</td>\n",
       "      <td>0</td>\n",
       "      <td>NaN</td>\n",
       "      <td>NaN</td>\n",
       "      <td>Gar2</td>\n",
       "      <td>12500</td>\n",
       "      <td>6</td>\n",
       "      <td>2010</td>\n",
       "      <td>WD</td>\n",
       "      <td>Normal</td>\n",
       "    </tr>\n",
       "    <tr>\n",
       "      <th>2</th>\n",
       "      <td>1463</td>\n",
       "      <td>60</td>\n",
       "      <td>RL</td>\n",
       "      <td>74.0</td>\n",
       "      <td>13830</td>\n",
       "      <td>Pave</td>\n",
       "      <td>NaN</td>\n",
       "      <td>IR1</td>\n",
       "      <td>Lvl</td>\n",
       "      <td>AllPub</td>\n",
       "      <td>...</td>\n",
       "      <td>0</td>\n",
       "      <td>0</td>\n",
       "      <td>NaN</td>\n",
       "      <td>MnPrv</td>\n",
       "      <td>NaN</td>\n",
       "      <td>0</td>\n",
       "      <td>3</td>\n",
       "      <td>2010</td>\n",
       "      <td>WD</td>\n",
       "      <td>Normal</td>\n",
       "    </tr>\n",
       "    <tr>\n",
       "      <th>3</th>\n",
       "      <td>1464</td>\n",
       "      <td>60</td>\n",
       "      <td>RL</td>\n",
       "      <td>78.0</td>\n",
       "      <td>9978</td>\n",
       "      <td>Pave</td>\n",
       "      <td>NaN</td>\n",
       "      <td>IR1</td>\n",
       "      <td>Lvl</td>\n",
       "      <td>AllPub</td>\n",
       "      <td>...</td>\n",
       "      <td>0</td>\n",
       "      <td>0</td>\n",
       "      <td>NaN</td>\n",
       "      <td>NaN</td>\n",
       "      <td>NaN</td>\n",
       "      <td>0</td>\n",
       "      <td>6</td>\n",
       "      <td>2010</td>\n",
       "      <td>WD</td>\n",
       "      <td>Normal</td>\n",
       "    </tr>\n",
       "    <tr>\n",
       "      <th>4</th>\n",
       "      <td>1465</td>\n",
       "      <td>120</td>\n",
       "      <td>RL</td>\n",
       "      <td>43.0</td>\n",
       "      <td>5005</td>\n",
       "      <td>Pave</td>\n",
       "      <td>NaN</td>\n",
       "      <td>IR1</td>\n",
       "      <td>HLS</td>\n",
       "      <td>AllPub</td>\n",
       "      <td>...</td>\n",
       "      <td>144</td>\n",
       "      <td>0</td>\n",
       "      <td>NaN</td>\n",
       "      <td>NaN</td>\n",
       "      <td>NaN</td>\n",
       "      <td>0</td>\n",
       "      <td>1</td>\n",
       "      <td>2010</td>\n",
       "      <td>WD</td>\n",
       "      <td>Normal</td>\n",
       "    </tr>\n",
       "  </tbody>\n",
       "</table>\n",
       "<p>5 rows × 80 columns</p>\n",
       "</div>"
      ],
      "text/plain": [
       "     Id  MSSubClass MSZoning  LotFrontage  LotArea Street Alley LotShape  \\\n",
       "0  1461          20       RH         80.0    11622   Pave   NaN      Reg   \n",
       "1  1462          20       RL         81.0    14267   Pave   NaN      IR1   \n",
       "2  1463          60       RL         74.0    13830   Pave   NaN      IR1   \n",
       "3  1464          60       RL         78.0     9978   Pave   NaN      IR1   \n",
       "4  1465         120       RL         43.0     5005   Pave   NaN      IR1   \n",
       "\n",
       "  LandContour Utilities  ... ScreenPorch PoolArea PoolQC  Fence MiscFeature  \\\n",
       "0         Lvl    AllPub  ...         120        0    NaN  MnPrv         NaN   \n",
       "1         Lvl    AllPub  ...           0        0    NaN    NaN        Gar2   \n",
       "2         Lvl    AllPub  ...           0        0    NaN  MnPrv         NaN   \n",
       "3         Lvl    AllPub  ...           0        0    NaN    NaN         NaN   \n",
       "4         HLS    AllPub  ...         144        0    NaN    NaN         NaN   \n",
       "\n",
       "  MiscVal MoSold  YrSold  SaleType  SaleCondition  \n",
       "0       0      6    2010        WD         Normal  \n",
       "1   12500      6    2010        WD         Normal  \n",
       "2       0      3    2010        WD         Normal  \n",
       "3       0      6    2010        WD         Normal  \n",
       "4       0      1    2010        WD         Normal  \n",
       "\n",
       "[5 rows x 80 columns]"
      ]
     },
     "execution_count": 5,
     "metadata": {},
     "output_type": "execute_result"
    }
   ],
   "source": [
    "test.head()"
   ]
  },
  {
   "cell_type": "markdown",
   "id": "e46f9083",
   "metadata": {},
   "source": [
    "Missing Data treatment"
   ]
  },
  {
   "cell_type": "code",
   "execution_count": 9,
   "id": "ec62c884",
   "metadata": {},
   "outputs": [
    {
     "data": {
      "text/plain": [
       "Id                 0\n",
       "MSSubClass         0\n",
       "MSZoning           0\n",
       "LotFrontage      259\n",
       "LotArea            0\n",
       "                ... \n",
       "MoSold             0\n",
       "YrSold             0\n",
       "SaleType           0\n",
       "SaleCondition      0\n",
       "SalePrice          0\n",
       "Length: 81, dtype: int64"
      ]
     },
     "execution_count": 9,
     "metadata": {},
     "output_type": "execute_result"
    }
   ],
   "source": [
    "train.isna().sum()"
   ]
  },
  {
   "cell_type": "code",
   "execution_count": 10,
   "id": "057f9ed2",
   "metadata": {},
   "outputs": [],
   "source": [
    "train.Alley = train.Alley.fillna(\"No alley access\")\n",
    "train.BsmtQual = train.BsmtQual.fillna(\"No Basement\")\n",
    "train.BsmtCond = train.BsmtCond.fillna(\"No Basement\")\n",
    "train.BsmtExposure = train.BsmtExposure.fillna(\"No Basement\")\n",
    "train.BsmtFinType1 = train.BsmtFinType1.fillna(\"No Basement\")\n",
    "train.BsmtFinType2 = train.BsmtFinType2.fillna(\"No Basement\")\n",
    "train.FireplaceQu = train.FireplaceQu.fillna(\"No Fireplace\")\n",
    "train.GarageType = train.GarageType.fillna(\"No Garage\")\n",
    "train.GarageFinish = train.GarageFinish.fillna(\"No Garage\")\n",
    "train.GarageQual = train.GarageQual.fillna(\"No Garage\")\n",
    "train.GarageCond = train.GarageCond.fillna(\"No Garage\")\n",
    "train.PoolQC = train.PoolQC.fillna(\"No Pool\")\n",
    "train.Fence = train.Fence.fillna(\"No Fence\")\n",
    "train.MiscFeature = train.MiscFeature.fillna(\"None\")"
   ]
  },
  {
   "cell_type": "code",
   "execution_count": 11,
   "id": "e5958eb7",
   "metadata": {},
   "outputs": [],
   "source": [
    "test.Alley = test.Alley.fillna(\"No alley access\")\n",
    "test.BsmtQual = test.BsmtQual.fillna(\"No Basement\")\n",
    "test.BsmtCond = test.BsmtCond.fillna(\"No Basement\")\n",
    "test.BsmtExposure = test.BsmtExposure.fillna(\"No Basement\")\n",
    "test.BsmtFinType1 = test.BsmtFinType1.fillna(\"No Basement\")\n",
    "test.BsmtFinType2 = test.BsmtFinType2.fillna(\"No Basement\")\n",
    "test.FireplaceQu = test.FireplaceQu.fillna(\"No Fireplace\")\n",
    "test.GarageType = test.GarageType.fillna(\"No Garage\")\n",
    "test.GarageFinish = test.GarageFinish.fillna(\"No Garage\")\n",
    "test.GarageQual = test.GarageQual.fillna(\"No Garage\")\n",
    "test.GarageCond = test.GarageCond.fillna(\"No Garage\")\n",
    "test.PoolQC = test.PoolQC.fillna(\"No Pool\")\n",
    "test.Fence = test.Fence.fillna(\"No Fence\")\n",
    "test.MiscFeature = test.MiscFeature.fillna(\"None\")"
   ]
  },
  {
   "cell_type": "code",
   "execution_count": 12,
   "id": "c7828cf7",
   "metadata": {},
   "outputs": [],
   "source": [
    "#train.isna().sum()"
   ]
  },
  {
   "cell_type": "code",
   "execution_count": 13,
   "id": "768210e0",
   "metadata": {},
   "outputs": [],
   "source": [
    "cat = []\n",
    "con = []\n",
    "for i in train.columns:\n",
    "    if(train[i].dtypes == \"object\"):\n",
    "        cat.append(i)\n",
    "        x = train[i].mode()[0]\n",
    "        train[i] = train[i].fillna(x)\n",
    "    else:\n",
    "        con.append(i)\n",
    "        x = round(train[i].mean(),2)\n",
    "        train[i] = train[i].fillna(x)"
   ]
  },
  {
   "cell_type": "code",
   "execution_count": 14,
   "id": "332e4d00",
   "metadata": {},
   "outputs": [],
   "source": [
    "for i in test.columns:\n",
    "    if(test[i].dtypes == \"object\"):\n",
    "        x = test[i].mode()[0]\n",
    "        test[i] = test[i].fillna(x)\n",
    "    else:\n",
    "        x = round(test[i].mean(),2)\n",
    "        test[i] = test[i].fillna(x)"
   ]
  },
  {
   "cell_type": "code",
   "execution_count": 15,
   "id": "43d4573f",
   "metadata": {},
   "outputs": [],
   "source": [
    "#test.isna().sum()"
   ]
  },
  {
   "cell_type": "markdown",
   "id": "df74168d",
   "metadata": {},
   "source": [
    "Intial X and Y"
   ]
  },
  {
   "cell_type": "code",
   "execution_count": 16,
   "id": "383aeb61",
   "metadata": {},
   "outputs": [],
   "source": [
    "Y = train[['SalePrice']]\n",
    "X = train.drop(labels=[\"Id\",\"SalePrice\"],axis=1)"
   ]
  },
  {
   "cell_type": "markdown",
   "id": "7b412c1d",
   "metadata": {},
   "source": [
    "Remove Outliers"
   ]
  },
  {
   "cell_type": "code",
   "execution_count": 17,
   "id": "3db94b6c",
   "metadata": {},
   "outputs": [],
   "source": [
    "cat = []\n",
    "con = []\n",
    "for i in X.columns:\n",
    "    if(X[i].dtypes == \"object\"):\n",
    "        cat.append(i)\n",
    "    else:\n",
    "        con.append(i)"
   ]
  },
  {
   "cell_type": "code",
   "execution_count": 18,
   "id": "d07d6e7a",
   "metadata": {},
   "outputs": [],
   "source": [
    "#Q = X[con].skew().sort_values()\n",
    "#cols_with_skew = Q[Q > 2].index"
   ]
  },
  {
   "cell_type": "code",
   "execution_count": 19,
   "id": "14f43ae9",
   "metadata": {},
   "outputs": [],
   "source": [
    "#X[cols_with_skew].skew()"
   ]
  },
  {
   "cell_type": "code",
   "execution_count": 20,
   "id": "43b0e230",
   "metadata": {},
   "outputs": [],
   "source": [
    "#import numpy as np \n",
    "#for j in cols_with_skew: \n",
    "#    w = [] \n",
    "#    for i in X[j]: \n",
    "#        if(i == 0): \n",
    "#            w.append(0) \n",
    "#            else: \n",
    "#            w.append(round(np.log(i),3)) \n",
    "#    X[j]=w"
   ]
  },
  {
   "cell_type": "code",
   "execution_count": 21,
   "id": "0bd66761",
   "metadata": {},
   "outputs": [],
   "source": [
    "#X[cols_with_skew].skew()"
   ]
  },
  {
   "cell_type": "code",
   "execution_count": 22,
   "id": "62f159cf",
   "metadata": {},
   "outputs": [],
   "source": [
    "from sklearn.preprocessing import StandardScaler\n",
    "ss = StandardScaler()\n",
    "X1 = pd.DataFrame(ss.fit_transform(X[con]),columns=con)"
   ]
  },
  {
   "cell_type": "code",
   "execution_count": 23,
   "id": "67ddf6ef",
   "metadata": {},
   "outputs": [],
   "source": [
    "outliers = []\n",
    "for i in X1.columns:\n",
    "    outliers.extend(list(X1[(X1[i]>3) | (X1[i]<-3)].index))"
   ]
  },
  {
   "cell_type": "code",
   "execution_count": 24,
   "id": "520af173",
   "metadata": {},
   "outputs": [],
   "source": [
    "import numpy as np\n",
    "outliers = np.unique(outliers)"
   ]
  },
  {
   "cell_type": "code",
   "execution_count": 25,
   "id": "3204290b",
   "metadata": {},
   "outputs": [],
   "source": [
    "X = X.drop(index=outliers,axis=0)\n",
    "Y = Y.drop(index=outliers,axis=0)"
   ]
  },
  {
   "cell_type": "code",
   "execution_count": 26,
   "id": "a5c757b1",
   "metadata": {},
   "outputs": [
    {
     "data": {
      "text/plain": [
       "(1021, 79)"
      ]
     },
     "execution_count": 26,
     "metadata": {},
     "output_type": "execute_result"
    }
   ],
   "source": [
    "X.shape"
   ]
  },
  {
   "cell_type": "code",
   "execution_count": 27,
   "id": "b3325775",
   "metadata": {},
   "outputs": [],
   "source": [
    "X.index = range(0,1021,1)\n",
    "Y.index = range(0,1021,1)"
   ]
  },
  {
   "cell_type": "markdown",
   "id": "67e2097a",
   "metadata": {},
   "source": [
    "EDA"
   ]
  },
  {
   "cell_type": "code",
   "execution_count": 28,
   "id": "ebe438e6",
   "metadata": {},
   "outputs": [
    {
     "name": "stdout",
     "output_type": "stream",
     "text": [
      "SalePrice ~ MSZoning --->   0.0\n",
      "SalePrice ~ Street --->   0.117\n",
      "SalePrice ~ Alley --->   0.0\n",
      "SalePrice ~ LotShape --->   0.0\n",
      "SalePrice ~ LandContour --->   0.0\n",
      "SalePrice ~ Utilities --->   0.5847\n",
      "SalePrice ~ LotConfig --->   0.0\n",
      "SalePrice ~ LandSlope --->   0.1414\n",
      "SalePrice ~ Neighborhood --->   0.0\n",
      "SalePrice ~ Condition1 --->   0.0\n",
      "SalePrice ~ Condition2 --->   0.0434\n",
      "SalePrice ~ BldgType --->   0.0\n",
      "SalePrice ~ HouseStyle --->   0.0\n",
      "SalePrice ~ RoofStyle --->   0.0\n",
      "SalePrice ~ RoofMatl --->   0.0\n",
      "SalePrice ~ Exterior1st --->   0.0\n",
      "SalePrice ~ Exterior2nd --->   0.0\n",
      "SalePrice ~ MasVnrType --->   0.0\n",
      "SalePrice ~ ExterQual --->   0.0\n",
      "SalePrice ~ ExterCond --->   0.0\n",
      "SalePrice ~ Foundation --->   0.0\n",
      "SalePrice ~ BsmtQual --->   0.0\n",
      "SalePrice ~ BsmtCond --->   0.0\n",
      "SalePrice ~ BsmtExposure --->   0.0\n",
      "SalePrice ~ BsmtFinType1 --->   0.0\n",
      "SalePrice ~ BsmtFinType2 --->   0.0\n",
      "SalePrice ~ Heating --->   0.0008\n",
      "SalePrice ~ HeatingQC --->   0.0\n",
      "SalePrice ~ CentralAir --->   0.0\n",
      "SalePrice ~ Electrical --->   0.0\n",
      "SalePrice ~ KitchenQual --->   0.0\n",
      "SalePrice ~ Functional --->   0.0005\n",
      "SalePrice ~ FireplaceQu --->   0.0\n",
      "SalePrice ~ GarageType --->   0.0\n",
      "SalePrice ~ GarageFinish --->   0.0\n",
      "SalePrice ~ GarageQual --->   0.0\n",
      "SalePrice ~ GarageCond --->   0.0\n",
      "SalePrice ~ PavedDrive --->   0.0\n",
      "SalePrice ~ PoolQC --->   0.0\n",
      "SalePrice ~ Fence --->   0.0\n",
      "SalePrice ~ MiscFeature --->   0.035\n",
      "SalePrice ~ SaleType --->   0.0\n",
      "SalePrice ~ SaleCondition --->   0.0\n"
     ]
    }
   ],
   "source": [
    "for i in cat:\n",
    "    import pandas as pd\n",
    "    from statsmodels.formula.api import ols\n",
    "    rel = \"SalePrice ~ \" + str(i)\n",
    "    model = ols(rel,train).fit()\n",
    "    from statsmodels.stats.anova import anova_lm\n",
    "    anova_results = anova_lm(model)\n",
    "    print(rel,\"--->  \",round(anova_results.iloc[0,4],4))"
   ]
  },
  {
   "cell_type": "code",
   "execution_count": 29,
   "id": "a0bce9b1",
   "metadata": {},
   "outputs": [],
   "source": [
    "cat.remove(\"Street\")\n",
    "cat.remove(\"Utilities\")\n",
    "cat.remove(\"LandSlope\")\n"
   ]
  },
  {
   "cell_type": "code",
   "execution_count": 30,
   "id": "0094c8e0",
   "metadata": {},
   "outputs": [
    {
     "data": {
      "text/plain": [
       "Index(['KitchenAbvGr', 'EnclosedPorch', 'MSSubClass', 'OverallCond', 'YrSold',\n",
       "       'LowQualFinSF', 'Id', 'MiscVal', 'BsmtHalfBath', 'BsmtFinSF2',\n",
       "       '3SsnPorch', 'MoSold', 'PoolArea'],\n",
       "      dtype='object')"
      ]
     },
     "execution_count": 30,
     "metadata": {},
     "output_type": "execute_result"
    }
   ],
   "source": [
    "train.corr()[\"SalePrice\"].sort_values().index[0:13]"
   ]
  },
  {
   "cell_type": "code",
   "execution_count": 31,
   "id": "b7a49067",
   "metadata": {},
   "outputs": [],
   "source": [
    "u = ['KitchenAbvGr', 'EnclosedPorch', 'MSSubClass', 'OverallCond', 'YrSold',\n",
    "       'LowQualFinSF', 'MiscVal', 'BsmtHalfBath', 'BsmtFinSF2',\n",
    "       '3SsnPorch', 'MoSold', 'PoolArea']\n",
    "\n",
    "for i in u:\n",
    "    con.remove(i)"
   ]
  },
  {
   "cell_type": "markdown",
   "id": "6cb5325f",
   "metadata": {},
   "source": [
    "Preprocessing"
   ]
  },
  {
   "cell_type": "code",
   "execution_count": 32,
   "id": "2f81cef1",
   "metadata": {},
   "outputs": [],
   "source": [
    "X1 = pd.DataFrame(ss.fit_transform(X[con]),columns=con)\n",
    "X2 = pd.get_dummies(X[cat])"
   ]
  },
  {
   "cell_type": "code",
   "execution_count": 33,
   "id": "6a4164df",
   "metadata": {},
   "outputs": [],
   "source": [
    "Xnew = X1.join(X2)"
   ]
  },
  {
   "cell_type": "code",
   "execution_count": 34,
   "id": "ef429de5",
   "metadata": {},
   "outputs": [
    {
     "data": {
      "text/plain": [
       "(1021, 255)"
      ]
     },
     "execution_count": 34,
     "metadata": {},
     "output_type": "execute_result"
    }
   ],
   "source": [
    "Xnew.shape"
   ]
  },
  {
   "cell_type": "code",
   "execution_count": 35,
   "id": "aa47f6a3",
   "metadata": {},
   "outputs": [
    {
     "data": {
      "text/plain": [
       "(1021, 1)"
      ]
     },
     "execution_count": 35,
     "metadata": {},
     "output_type": "execute_result"
    }
   ],
   "source": [
    "Y.shape"
   ]
  },
  {
   "cell_type": "markdown",
   "id": "e2aaaeec",
   "metadata": {},
   "source": [
    "Split"
   ]
  },
  {
   "cell_type": "code",
   "execution_count": 36,
   "id": "8b7658aa",
   "metadata": {},
   "outputs": [],
   "source": [
    "from sklearn.model_selection import train_test_split\n",
    "xtrain,xtest,ytrain,ytest=train_test_split(Xnew,Y,test_size=0.2,random_state=31)"
   ]
  },
  {
   "cell_type": "markdown",
   "id": "39d55bfc",
   "metadata": {},
   "source": [
    "Backward elemination model"
   ]
  },
  {
   "cell_type": "code",
   "execution_count": 37,
   "id": "d22af473",
   "metadata": {},
   "outputs": [],
   "source": [
    "from statsmodels.api import add_constant,OLS\n",
    "\n",
    "xconst = add_constant(xtrain,has_constant=\"add\")"
   ]
  },
  {
   "cell_type": "code",
   "execution_count": 38,
   "id": "96f47fa2",
   "metadata": {},
   "outputs": [],
   "source": [
    "ols = OLS(ytrain,xconst)\n",
    "model = ols.fit()\n"
   ]
  },
  {
   "cell_type": "code",
   "execution_count": 39,
   "id": "40149603",
   "metadata": {},
   "outputs": [
    {
     "data": {
      "text/html": [
       "<table class=\"simpletable\">\n",
       "<caption>OLS Regression Results</caption>\n",
       "<tr>\n",
       "  <th>Dep. Variable:</th>        <td>SalePrice</td>    <th>  R-squared:         </th> <td>   0.944</td> \n",
       "</tr>\n",
       "<tr>\n",
       "  <th>Model:</th>                   <td>OLS</td>       <th>  Adj. R-squared:    </th> <td>   0.926</td> \n",
       "</tr>\n",
       "<tr>\n",
       "  <th>Method:</th>             <td>Least Squares</td>  <th>  F-statistic:       </th> <td>   52.02</td> \n",
       "</tr>\n",
       "<tr>\n",
       "  <th>Date:</th>             <td>Tue, 25 Oct 2022</td> <th>  Prob (F-statistic):</th> <td>6.08e-292</td>\n",
       "</tr>\n",
       "<tr>\n",
       "  <th>Time:</th>                 <td>13:19:15</td>     <th>  Log-Likelihood:    </th> <td> -9054.5</td> \n",
       "</tr>\n",
       "<tr>\n",
       "  <th>No. Observations:</th>      <td>   816</td>      <th>  AIC:               </th> <td>1.851e+04</td>\n",
       "</tr>\n",
       "<tr>\n",
       "  <th>Df Residuals:</th>          <td>   616</td>      <th>  BIC:               </th> <td>1.945e+04</td>\n",
       "</tr>\n",
       "<tr>\n",
       "  <th>Df Model:</th>              <td>   199</td>      <th>                     </th>     <td> </td>    \n",
       "</tr>\n",
       "<tr>\n",
       "  <th>Covariance Type:</th>      <td>nonrobust</td>    <th>                     </th>     <td> </td>    \n",
       "</tr>\n",
       "</table>\n",
       "<table class=\"simpletable\">\n",
       "<tr>\n",
       "              <td></td>                <th>coef</th>     <th>std err</th>      <th>t</th>      <th>P>|t|</th>  <th>[0.025</th>    <th>0.975]</th>  \n",
       "</tr>\n",
       "<tr>\n",
       "  <th>const</th>                    <td> 1.333e+04</td> <td> 2178.289</td> <td>    6.117</td> <td> 0.000</td> <td> 9047.773</td> <td> 1.76e+04</td>\n",
       "</tr>\n",
       "<tr>\n",
       "  <th>LotFrontage</th>              <td> -266.4252</td> <td> 1146.443</td> <td>   -0.232</td> <td> 0.816</td> <td>-2517.836</td> <td> 1984.985</td>\n",
       "</tr>\n",
       "<tr>\n",
       "  <th>LotArea</th>                  <td> 5142.1532</td> <td> 1239.017</td> <td>    4.150</td> <td> 0.000</td> <td> 2708.943</td> <td> 7575.363</td>\n",
       "</tr>\n",
       "<tr>\n",
       "  <th>OverallQual</th>              <td> 8225.7713</td> <td> 1600.579</td> <td>    5.139</td> <td> 0.000</td> <td> 5082.519</td> <td> 1.14e+04</td>\n",
       "</tr>\n",
       "<tr>\n",
       "  <th>YearBuilt</th>                <td> 6684.8536</td> <td> 2824.732</td> <td>    2.367</td> <td> 0.018</td> <td> 1137.581</td> <td> 1.22e+04</td>\n",
       "</tr>\n",
       "<tr>\n",
       "  <th>YearRemodAdd</th>             <td> 5781.0512</td> <td> 1373.400</td> <td>    4.209</td> <td> 0.000</td> <td> 3083.937</td> <td> 8478.166</td>\n",
       "</tr>\n",
       "<tr>\n",
       "  <th>MasVnrArea</th>               <td> -861.1007</td> <td> 1280.919</td> <td>   -0.672</td> <td> 0.502</td> <td>-3376.599</td> <td> 1654.398</td>\n",
       "</tr>\n",
       "<tr>\n",
       "  <th>BsmtFinSF1</th>               <td> -464.0506</td> <td> 8501.900</td> <td>   -0.055</td> <td> 0.956</td> <td>-1.72e+04</td> <td> 1.62e+04</td>\n",
       "</tr>\n",
       "<tr>\n",
       "  <th>BsmtUnfSF</th>                <td>-7112.4224</td> <td> 8957.034</td> <td>   -0.794</td> <td> 0.427</td> <td>-2.47e+04</td> <td> 1.05e+04</td>\n",
       "</tr>\n",
       "<tr>\n",
       "  <th>TotalBsmtSF</th>              <td> 1.422e+04</td> <td> 7908.072</td> <td>    1.799</td> <td> 0.073</td> <td>-1306.003</td> <td> 2.98e+04</td>\n",
       "</tr>\n",
       "<tr>\n",
       "  <th>1stFlrSF</th>                 <td> 7202.6049</td> <td> 4.76e+04</td> <td>    0.151</td> <td> 0.880</td> <td>-8.63e+04</td> <td> 1.01e+05</td>\n",
       "</tr>\n",
       "<tr>\n",
       "  <th>2ndFlrSF</th>                 <td> 1.771e+04</td> <td> 5.82e+04</td> <td>    0.304</td> <td> 0.761</td> <td>-9.67e+04</td> <td> 1.32e+05</td>\n",
       "</tr>\n",
       "<tr>\n",
       "  <th>GrLivArea</th>                <td> 9592.0505</td> <td> 6.22e+04</td> <td>    0.154</td> <td> 0.878</td> <td>-1.13e+05</td> <td> 1.32e+05</td>\n",
       "</tr>\n",
       "<tr>\n",
       "  <th>BsmtFullBath</th>             <td> -278.2839</td> <td> 1143.314</td> <td>   -0.243</td> <td> 0.808</td> <td>-2523.550</td> <td> 1966.982</td>\n",
       "</tr>\n",
       "<tr>\n",
       "  <th>FullBath</th>                 <td> -583.2277</td> <td> 1492.683</td> <td>   -0.391</td> <td> 0.696</td> <td>-3514.591</td> <td> 2348.136</td>\n",
       "</tr>\n",
       "<tr>\n",
       "  <th>HalfBath</th>                 <td>  251.2976</td> <td> 1257.040</td> <td>    0.200</td> <td> 0.842</td> <td>-2217.306</td> <td> 2719.901</td>\n",
       "</tr>\n",
       "<tr>\n",
       "  <th>BedroomAbvGr</th>             <td>-1100.1187</td> <td> 1255.045</td> <td>   -0.877</td> <td> 0.381</td> <td>-3564.805</td> <td> 1364.568</td>\n",
       "</tr>\n",
       "<tr>\n",
       "  <th>TotRmsAbvGrd</th>             <td>  426.2803</td> <td> 1655.399</td> <td>    0.258</td> <td> 0.797</td> <td>-2824.630</td> <td> 3677.191</td>\n",
       "</tr>\n",
       "<tr>\n",
       "  <th>Fireplaces</th>               <td> -418.4419</td> <td> 2049.280</td> <td>   -0.204</td> <td> 0.838</td> <td>-4442.865</td> <td> 3605.981</td>\n",
       "</tr>\n",
       "<tr>\n",
       "  <th>GarageYrBlt</th>              <td>-2394.4310</td> <td> 1933.742</td> <td>   -1.238</td> <td> 0.216</td> <td>-6191.958</td> <td> 1403.096</td>\n",
       "</tr>\n",
       "<tr>\n",
       "  <th>GarageCars</th>               <td> 2667.5878</td> <td> 1911.611</td> <td>    1.395</td> <td> 0.163</td> <td>-1086.476</td> <td> 6421.652</td>\n",
       "</tr>\n",
       "<tr>\n",
       "  <th>GarageArea</th>               <td> 4431.6809</td> <td> 1858.717</td> <td>    2.384</td> <td> 0.017</td> <td>  781.490</td> <td> 8081.872</td>\n",
       "</tr>\n",
       "<tr>\n",
       "  <th>WoodDeckSF</th>               <td> 3440.2774</td> <td>  813.520</td> <td>    4.229</td> <td> 0.000</td> <td> 1842.669</td> <td> 5037.886</td>\n",
       "</tr>\n",
       "<tr>\n",
       "  <th>OpenPorchSF</th>              <td> 2182.2623</td> <td>  862.036</td> <td>    2.532</td> <td> 0.012</td> <td>  489.376</td> <td> 3875.149</td>\n",
       "</tr>\n",
       "<tr>\n",
       "  <th>ScreenPorch</th>              <td> 1094.1589</td> <td>  723.836</td> <td>    1.512</td> <td> 0.131</td> <td> -327.326</td> <td> 2515.644</td>\n",
       "</tr>\n",
       "<tr>\n",
       "  <th>MSZoning_C (all)</th>         <td>-2.305e+04</td> <td> 1.02e+04</td> <td>   -2.251</td> <td> 0.025</td> <td>-4.32e+04</td> <td>-2940.859</td>\n",
       "</tr>\n",
       "<tr>\n",
       "  <th>MSZoning_FV</th>              <td> 2.347e+04</td> <td> 6684.528</td> <td>    3.511</td> <td> 0.000</td> <td> 1.03e+04</td> <td> 3.66e+04</td>\n",
       "</tr>\n",
       "<tr>\n",
       "  <th>MSZoning_RH</th>              <td>-1383.8473</td> <td> 8738.917</td> <td>   -0.158</td> <td> 0.874</td> <td>-1.85e+04</td> <td> 1.58e+04</td>\n",
       "</tr>\n",
       "<tr>\n",
       "  <th>MSZoning_RL</th>              <td> 6009.6151</td> <td> 4114.647</td> <td>    1.461</td> <td> 0.145</td> <td>-2070.821</td> <td> 1.41e+04</td>\n",
       "</tr>\n",
       "<tr>\n",
       "  <th>MSZoning_RM</th>              <td> 8278.5218</td> <td> 4796.827</td> <td>    1.726</td> <td> 0.085</td> <td>-1141.596</td> <td> 1.77e+04</td>\n",
       "</tr>\n",
       "<tr>\n",
       "  <th>Alley_Grvl</th>               <td> 6168.4607</td> <td> 4127.275</td> <td>    1.495</td> <td> 0.136</td> <td>-1936.775</td> <td> 1.43e+04</td>\n",
       "</tr>\n",
       "<tr>\n",
       "  <th>Alley_No alley access</th>    <td> 4676.3276</td> <td> 2603.904</td> <td>    1.796</td> <td> 0.073</td> <td> -437.278</td> <td> 9789.933</td>\n",
       "</tr>\n",
       "<tr>\n",
       "  <th>Alley_Pave</th>               <td> 2480.7580</td> <td> 3989.321</td> <td>    0.622</td> <td> 0.534</td> <td>-5353.560</td> <td> 1.03e+04</td>\n",
       "</tr>\n",
       "<tr>\n",
       "  <th>LotShape_IR1</th>             <td> 8072.9482</td> <td> 3431.747</td> <td>    2.352</td> <td> 0.019</td> <td> 1333.605</td> <td> 1.48e+04</td>\n",
       "</tr>\n",
       "<tr>\n",
       "  <th>LotShape_IR2</th>             <td> 6544.2369</td> <td> 4875.612</td> <td>    1.342</td> <td> 0.180</td> <td>-3030.600</td> <td> 1.61e+04</td>\n",
       "</tr>\n",
       "<tr>\n",
       "  <th>LotShape_IR3</th>             <td>-8377.3737</td> <td> 9047.254</td> <td>   -0.926</td> <td> 0.355</td> <td>-2.61e+04</td> <td> 9389.827</td>\n",
       "</tr>\n",
       "<tr>\n",
       "  <th>LotShape_Reg</th>             <td> 7085.7349</td> <td> 3569.262</td> <td>    1.985</td> <td> 0.048</td> <td>   76.339</td> <td> 1.41e+04</td>\n",
       "</tr>\n",
       "<tr>\n",
       "  <th>LandContour_Bnk</th>          <td> 5819.6088</td> <td> 4444.299</td> <td>    1.309</td> <td> 0.191</td> <td>-2908.206</td> <td> 1.45e+04</td>\n",
       "</tr>\n",
       "<tr>\n",
       "  <th>LandContour_HLS</th>          <td> 8573.0029</td> <td> 3943.517</td> <td>    2.174</td> <td> 0.030</td> <td>  828.635</td> <td> 1.63e+04</td>\n",
       "</tr>\n",
       "<tr>\n",
       "  <th>LandContour_Low</th>          <td>-6148.3567</td> <td> 6215.337</td> <td>   -0.989</td> <td> 0.323</td> <td>-1.84e+04</td> <td> 6057.463</td>\n",
       "</tr>\n",
       "<tr>\n",
       "  <th>LandContour_Lvl</th>          <td> 5081.2913</td> <td> 2736.468</td> <td>    1.857</td> <td> 0.064</td> <td> -292.646</td> <td> 1.05e+04</td>\n",
       "</tr>\n",
       "<tr>\n",
       "  <th>LotConfig_Corner</th>         <td> 6895.2198</td> <td> 3074.720</td> <td>    2.243</td> <td> 0.025</td> <td>  857.016</td> <td> 1.29e+04</td>\n",
       "</tr>\n",
       "<tr>\n",
       "  <th>LotConfig_CulDSac</th>        <td> 1.031e+04</td> <td> 3660.739</td> <td>    2.817</td> <td> 0.005</td> <td> 3123.874</td> <td> 1.75e+04</td>\n",
       "</tr>\n",
       "<tr>\n",
       "  <th>LotConfig_FR2</th>            <td> -657.1564</td> <td> 4183.800</td> <td>   -0.157</td> <td> 0.875</td> <td>-8873.397</td> <td> 7559.084</td>\n",
       "</tr>\n",
       "<tr>\n",
       "  <th>LotConfig_FR3</th>            <td>-8557.7873</td> <td> 9112.539</td> <td>   -0.939</td> <td> 0.348</td> <td>-2.65e+04</td> <td> 9337.621</td>\n",
       "</tr>\n",
       "<tr>\n",
       "  <th>LotConfig_Inside</th>         <td> 5332.3539</td> <td> 2739.536</td> <td>    1.946</td> <td> 0.052</td> <td>  -47.609</td> <td> 1.07e+04</td>\n",
       "</tr>\n",
       "<tr>\n",
       "  <th>Neighborhood_Blmngtn</th>     <td> 1.301e+04</td> <td> 7342.270</td> <td>    1.772</td> <td> 0.077</td> <td>-1405.891</td> <td> 2.74e+04</td>\n",
       "</tr>\n",
       "<tr>\n",
       "  <th>Neighborhood_Blueste</th>     <td>-3987.1539</td> <td> 1.95e+04</td> <td>   -0.204</td> <td> 0.838</td> <td>-4.23e+04</td> <td> 3.43e+04</td>\n",
       "</tr>\n",
       "<tr>\n",
       "  <th>Neighborhood_BrDale</th>      <td> 1.291e+04</td> <td> 8643.301</td> <td>    1.494</td> <td> 0.136</td> <td>-4062.833</td> <td> 2.99e+04</td>\n",
       "</tr>\n",
       "<tr>\n",
       "  <th>Neighborhood_BrkSide</th>     <td>-1630.8758</td> <td> 6475.764</td> <td>   -0.252</td> <td> 0.801</td> <td>-1.43e+04</td> <td> 1.11e+04</td>\n",
       "</tr>\n",
       "<tr>\n",
       "  <th>Neighborhood_ClearCr</th>     <td>-1.133e+04</td> <td> 7861.716</td> <td>   -1.441</td> <td> 0.150</td> <td>-2.68e+04</td> <td> 4113.714</td>\n",
       "</tr>\n",
       "<tr>\n",
       "  <th>Neighborhood_CollgCr</th>     <td>-5219.1262</td> <td> 3266.575</td> <td>   -1.598</td> <td> 0.111</td> <td>-1.16e+04</td> <td> 1195.848</td>\n",
       "</tr>\n",
       "<tr>\n",
       "  <th>Neighborhood_Crawfor</th>     <td> 2.627e+04</td> <td> 6609.171</td> <td>    3.975</td> <td> 0.000</td> <td> 1.33e+04</td> <td> 3.92e+04</td>\n",
       "</tr>\n",
       "<tr>\n",
       "  <th>Neighborhood_Edwards</th>     <td>-1.336e+04</td> <td> 3680.315</td> <td>   -3.631</td> <td> 0.000</td> <td>-2.06e+04</td> <td>-6135.110</td>\n",
       "</tr>\n",
       "<tr>\n",
       "  <th>Neighborhood_Gilbert</th>     <td>-5798.4543</td> <td> 4403.101</td> <td>   -1.317</td> <td> 0.188</td> <td>-1.44e+04</td> <td> 2848.454</td>\n",
       "</tr>\n",
       "<tr>\n",
       "  <th>Neighborhood_IDOTRR</th>      <td>-5797.9849</td> <td> 7695.283</td> <td>   -0.753</td> <td> 0.451</td> <td>-2.09e+04</td> <td> 9314.185</td>\n",
       "</tr>\n",
       "<tr>\n",
       "  <th>Neighborhood_MeadowV</th>     <td>-1.156e+04</td> <td> 9382.908</td> <td>   -1.232</td> <td> 0.218</td> <td>   -3e+04</td> <td> 6866.203</td>\n",
       "</tr>\n",
       "<tr>\n",
       "  <th>Neighborhood_Mitchel</th>     <td>-1.066e+04</td> <td> 4813.483</td> <td>   -2.214</td> <td> 0.027</td> <td>-2.01e+04</td> <td>-1204.720</td>\n",
       "</tr>\n",
       "<tr>\n",
       "  <th>Neighborhood_NAmes</th>       <td>-6699.8951</td> <td> 3355.145</td> <td>   -1.997</td> <td> 0.046</td> <td>-1.33e+04</td> <td> -110.986</td>\n",
       "</tr>\n",
       "<tr>\n",
       "  <th>Neighborhood_NPkVill</th>     <td> 2.025e+04</td> <td> 1.44e+04</td> <td>    1.405</td> <td> 0.160</td> <td>-8048.268</td> <td> 4.86e+04</td>\n",
       "</tr>\n",
       "<tr>\n",
       "  <th>Neighborhood_NWAmes</th>      <td>-9890.7946</td> <td> 4281.629</td> <td>   -2.310</td> <td> 0.021</td> <td>-1.83e+04</td> <td>-1482.436</td>\n",
       "</tr>\n",
       "<tr>\n",
       "  <th>Neighborhood_NoRidge</th>     <td> 6732.0934</td> <td> 6162.427</td> <td>    1.092</td> <td> 0.275</td> <td>-5369.819</td> <td> 1.88e+04</td>\n",
       "</tr>\n",
       "<tr>\n",
       "  <th>Neighborhood_NridgHt</th>     <td> 1.365e+04</td> <td> 4874.324</td> <td>    2.801</td> <td> 0.005</td> <td> 4080.410</td> <td> 2.32e+04</td>\n",
       "</tr>\n",
       "<tr>\n",
       "  <th>Neighborhood_OldTown</th>     <td>-9852.7250</td> <td> 6341.064</td> <td>   -1.554</td> <td> 0.121</td> <td>-2.23e+04</td> <td> 2599.999</td>\n",
       "</tr>\n",
       "<tr>\n",
       "  <th>Neighborhood_SWISU</th>       <td>-1.276e+04</td> <td> 8238.537</td> <td>   -1.549</td> <td> 0.122</td> <td>-2.89e+04</td> <td> 3420.751</td>\n",
       "</tr>\n",
       "<tr>\n",
       "  <th>Neighborhood_Sawyer</th>      <td>-5095.8935</td> <td> 3959.619</td> <td>   -1.287</td> <td> 0.199</td> <td>-1.29e+04</td> <td> 2680.096</td>\n",
       "</tr>\n",
       "<tr>\n",
       "  <th>Neighborhood_SawyerW</th>     <td>   -8.8963</td> <td> 4511.766</td> <td>   -0.002</td> <td> 0.998</td> <td>-8869.205</td> <td> 8851.412</td>\n",
       "</tr>\n",
       "<tr>\n",
       "  <th>Neighborhood_Somerst</th>     <td>-6422.9664</td> <td> 6530.078</td> <td>   -0.984</td> <td> 0.326</td> <td>-1.92e+04</td> <td> 6400.948</td>\n",
       "</tr>\n",
       "<tr>\n",
       "  <th>Neighborhood_StoneBr</th>     <td> 4.472e+04</td> <td> 6436.249</td> <td>    6.949</td> <td> 0.000</td> <td> 3.21e+04</td> <td> 5.74e+04</td>\n",
       "</tr>\n",
       "<tr>\n",
       "  <th>Neighborhood_Timber</th>      <td>-8672.2341</td> <td> 5346.982</td> <td>   -1.622</td> <td> 0.105</td> <td>-1.92e+04</td> <td> 1828.289</td>\n",
       "</tr>\n",
       "<tr>\n",
       "  <th>Neighborhood_Veenker</th>     <td> 4510.2577</td> <td> 9657.133</td> <td>    0.467</td> <td> 0.641</td> <td>-1.45e+04</td> <td> 2.35e+04</td>\n",
       "</tr>\n",
       "<tr>\n",
       "  <th>Condition1_Artery</th>        <td>-3157.2641</td> <td> 6177.245</td> <td>   -0.511</td> <td> 0.609</td> <td>-1.53e+04</td> <td> 8973.749</td>\n",
       "</tr>\n",
       "<tr>\n",
       "  <th>Condition1_Feedr</th>         <td> 2747.3615</td> <td> 4800.957</td> <td>    0.572</td> <td> 0.567</td> <td>-6680.866</td> <td> 1.22e+04</td>\n",
       "</tr>\n",
       "<tr>\n",
       "  <th>Condition1_Norm</th>          <td> 9393.5077</td> <td> 3755.077</td> <td>    2.502</td> <td> 0.013</td> <td> 2019.204</td> <td> 1.68e+04</td>\n",
       "</tr>\n",
       "<tr>\n",
       "  <th>Condition1_PosA</th>          <td>-8188.6936</td> <td> 1.12e+04</td> <td>   -0.728</td> <td> 0.467</td> <td>-3.03e+04</td> <td> 1.39e+04</td>\n",
       "</tr>\n",
       "<tr>\n",
       "  <th>Condition1_PosN</th>          <td> 1.872e+04</td> <td> 9321.359</td> <td>    2.008</td> <td> 0.045</td> <td>  409.957</td> <td>  3.7e+04</td>\n",
       "</tr>\n",
       "<tr>\n",
       "  <th>Condition1_RRAe</th>          <td>-1.938e+04</td> <td> 7641.144</td> <td>   -2.536</td> <td> 0.011</td> <td>-3.44e+04</td> <td>-4374.980</td>\n",
       "</tr>\n",
       "<tr>\n",
       "  <th>Condition1_RRAn</th>          <td> 3353.5147</td> <td> 6594.816</td> <td>    0.509</td> <td> 0.611</td> <td>-9597.534</td> <td> 1.63e+04</td>\n",
       "</tr>\n",
       "<tr>\n",
       "  <th>Condition1_RRNe</th>          <td> 5.296e-11</td> <td> 1.89e-10</td> <td>    0.281</td> <td> 0.779</td> <td>-3.17e-10</td> <td> 4.23e-10</td>\n",
       "</tr>\n",
       "<tr>\n",
       "  <th>Condition1_RRNn</th>          <td> 9842.4989</td> <td> 1.79e+04</td> <td>    0.549</td> <td> 0.583</td> <td>-2.53e+04</td> <td>  4.5e+04</td>\n",
       "</tr>\n",
       "<tr>\n",
       "  <th>Condition2_Feedr</th>         <td> 1.129e+04</td> <td> 1.72e+04</td> <td>    0.656</td> <td> 0.512</td> <td>-2.25e+04</td> <td> 4.51e+04</td>\n",
       "</tr>\n",
       "<tr>\n",
       "  <th>Condition2_Norm</th>          <td> 2034.2435</td> <td> 1.59e+04</td> <td>    0.128</td> <td> 0.898</td> <td>-2.92e+04</td> <td> 3.33e+04</td>\n",
       "</tr>\n",
       "<tr>\n",
       "  <th>Condition2_RRNn</th>          <td>-1.875e-11</td> <td> 3.06e-10</td> <td>   -0.061</td> <td> 0.951</td> <td>-6.19e-10</td> <td> 5.82e-10</td>\n",
       "</tr>\n",
       "<tr>\n",
       "  <th>BldgType_1Fam</th>            <td> 2.318e+04</td> <td> 6474.453</td> <td>    3.580</td> <td> 0.000</td> <td> 1.05e+04</td> <td> 3.59e+04</td>\n",
       "</tr>\n",
       "<tr>\n",
       "  <th>BldgType_2fmCon</th>          <td> -1.82e+04</td> <td> 2.35e+04</td> <td>   -0.775</td> <td> 0.439</td> <td>-6.43e+04</td> <td> 2.79e+04</td>\n",
       "</tr>\n",
       "<tr>\n",
       "  <th>BldgType_Duplex</th>          <td> 5618.5176</td> <td> 1.05e+04</td> <td>    0.536</td> <td> 0.592</td> <td> -1.5e+04</td> <td> 2.62e+04</td>\n",
       "</tr>\n",
       "<tr>\n",
       "  <th>BldgType_Twnhs</th>           <td> -407.0774</td> <td> 7620.940</td> <td>   -0.053</td> <td> 0.957</td> <td>-1.54e+04</td> <td> 1.46e+04</td>\n",
       "</tr>\n",
       "<tr>\n",
       "  <th>BldgType_TwnhsE</th>          <td> 3138.1690</td> <td> 6735.720</td> <td>    0.466</td> <td> 0.641</td> <td>-1.01e+04</td> <td> 1.64e+04</td>\n",
       "</tr>\n",
       "<tr>\n",
       "  <th>HouseStyle_1.5Fin</th>        <td>  533.9376</td> <td> 3926.815</td> <td>    0.136</td> <td> 0.892</td> <td>-7177.630</td> <td> 8245.505</td>\n",
       "</tr>\n",
       "<tr>\n",
       "  <th>HouseStyle_1.5Unf</th>        <td>  1.78e+04</td> <td> 9389.569</td> <td>    1.895</td> <td> 0.059</td> <td> -643.557</td> <td> 3.62e+04</td>\n",
       "</tr>\n",
       "<tr>\n",
       "  <th>HouseStyle_1Story</th>        <td> 1.032e+04</td> <td> 3730.655</td> <td>    2.767</td> <td> 0.006</td> <td> 2997.000</td> <td> 1.76e+04</td>\n",
       "</tr>\n",
       "<tr>\n",
       "  <th>HouseStyle_2.5Unf</th>        <td>-1.777e+04</td> <td>  1.3e+04</td> <td>   -1.364</td> <td> 0.173</td> <td>-4.34e+04</td> <td> 7813.418</td>\n",
       "</tr>\n",
       "<tr>\n",
       "  <th>HouseStyle_2Story</th>        <td>-3270.9492</td> <td> 4419.260</td> <td>   -0.740</td> <td> 0.459</td> <td>-1.19e+04</td> <td> 5407.692</td>\n",
       "</tr>\n",
       "<tr>\n",
       "  <th>HouseStyle_SFoyer</th>        <td> 3999.6207</td> <td> 5572.050</td> <td>    0.718</td> <td> 0.473</td> <td>-6942.896</td> <td> 1.49e+04</td>\n",
       "</tr>\n",
       "<tr>\n",
       "  <th>HouseStyle_SLvl</th>          <td> 1717.1860</td> <td> 4605.704</td> <td>    0.373</td> <td> 0.709</td> <td>-7327.599</td> <td> 1.08e+04</td>\n",
       "</tr>\n",
       "<tr>\n",
       "  <th>RoofStyle_Flat</th>           <td>-3109.8700</td> <td> 8543.276</td> <td>   -0.364</td> <td> 0.716</td> <td>-1.99e+04</td> <td> 1.37e+04</td>\n",
       "</tr>\n",
       "<tr>\n",
       "  <th>RoofStyle_Gable</th>          <td>  985.1964</td> <td> 6746.479</td> <td>    0.146</td> <td> 0.884</td> <td>-1.23e+04</td> <td> 1.42e+04</td>\n",
       "</tr>\n",
       "<tr>\n",
       "  <th>RoofStyle_Gambrel</th>        <td> 5733.9528</td> <td> 1.06e+04</td> <td>    0.542</td> <td> 0.588</td> <td> -1.5e+04</td> <td> 2.65e+04</td>\n",
       "</tr>\n",
       "<tr>\n",
       "  <th>RoofStyle_Hip</th>            <td> 3129.1665</td> <td> 7000.077</td> <td>    0.447</td> <td> 0.655</td> <td>-1.06e+04</td> <td> 1.69e+04</td>\n",
       "</tr>\n",
       "<tr>\n",
       "  <th>RoofStyle_Mansard</th>        <td> 6587.1005</td> <td> 1.67e+04</td> <td>    0.396</td> <td> 0.693</td> <td>-2.61e+04</td> <td> 3.93e+04</td>\n",
       "</tr>\n",
       "<tr>\n",
       "  <th>RoofMatl_CompShg</th>         <td> 1.705e+04</td> <td>  1.2e+04</td> <td>    1.420</td> <td> 0.156</td> <td>-6536.289</td> <td> 4.06e+04</td>\n",
       "</tr>\n",
       "<tr>\n",
       "  <th>RoofMatl_Tar&Grv</th>         <td>-3109.8700</td> <td> 8543.276</td> <td>   -0.364</td> <td> 0.716</td> <td>-1.99e+04</td> <td> 1.37e+04</td>\n",
       "</tr>\n",
       "<tr>\n",
       "  <th>RoofMatl_WdShake</th>         <td>-5347.4162</td> <td> 2.34e+04</td> <td>   -0.228</td> <td> 0.820</td> <td>-5.14e+04</td> <td> 4.07e+04</td>\n",
       "</tr>\n",
       "<tr>\n",
       "  <th>RoofMatl_WdShngl</th>         <td> 4730.3204</td> <td> 1.85e+04</td> <td>    0.255</td> <td> 0.799</td> <td>-3.17e+04</td> <td> 4.11e+04</td>\n",
       "</tr>\n",
       "<tr>\n",
       "  <th>Exterior1st_AsbShng</th>      <td> 2.743e+04</td> <td> 2.27e+04</td> <td>    1.207</td> <td> 0.228</td> <td>-1.72e+04</td> <td> 7.21e+04</td>\n",
       "</tr>\n",
       "<tr>\n",
       "  <th>Exterior1st_BrkComm</th>      <td> 2.184e+04</td> <td> 2.51e+04</td> <td>    0.870</td> <td> 0.385</td> <td>-2.75e+04</td> <td> 7.11e+04</td>\n",
       "</tr>\n",
       "<tr>\n",
       "  <th>Exterior1st_BrkFace</th>      <td> 1.608e+04</td> <td> 7468.630</td> <td>    2.153</td> <td> 0.032</td> <td> 1412.222</td> <td> 3.07e+04</td>\n",
       "</tr>\n",
       "<tr>\n",
       "  <th>Exterior1st_CBlock</th>       <td>-7014.5340</td> <td>  1.3e+04</td> <td>   -0.540</td> <td> 0.589</td> <td>-3.25e+04</td> <td> 1.85e+04</td>\n",
       "</tr>\n",
       "<tr>\n",
       "  <th>Exterior1st_CemntBd</th>      <td>-1.934e+04</td> <td> 2.05e+04</td> <td>   -0.943</td> <td> 0.346</td> <td>-5.96e+04</td> <td>  2.1e+04</td>\n",
       "</tr>\n",
       "<tr>\n",
       "  <th>Exterior1st_HdBoard</th>      <td>-8521.9747</td> <td> 6131.057</td> <td>   -1.390</td> <td> 0.165</td> <td>-2.06e+04</td> <td> 3518.333</td>\n",
       "</tr>\n",
       "<tr>\n",
       "  <th>Exterior1st_ImStucc</th>      <td> 1.832e+04</td> <td> 2.26e+04</td> <td>    0.811</td> <td> 0.418</td> <td> -2.6e+04</td> <td> 6.27e+04</td>\n",
       "</tr>\n",
       "<tr>\n",
       "  <th>Exterior1st_MetalSd</th>      <td> -812.9788</td> <td> 1.02e+04</td> <td>   -0.080</td> <td> 0.937</td> <td>-2.09e+04</td> <td> 1.93e+04</td>\n",
       "</tr>\n",
       "<tr>\n",
       "  <th>Exterior1st_Plywood</th>      <td>-7092.3513</td> <td> 6376.576</td> <td>   -1.112</td> <td> 0.266</td> <td>-1.96e+04</td> <td> 5430.113</td>\n",
       "</tr>\n",
       "<tr>\n",
       "  <th>Exterior1st_Stucco</th>       <td>-7367.6951</td> <td> 1.19e+04</td> <td>   -0.619</td> <td> 0.536</td> <td>-3.07e+04</td> <td>  1.6e+04</td>\n",
       "</tr>\n",
       "<tr>\n",
       "  <th>Exterior1st_VinylSd</th>      <td>-9051.2916</td> <td> 8370.531</td> <td>   -1.081</td> <td> 0.280</td> <td>-2.55e+04</td> <td> 7386.946</td>\n",
       "</tr>\n",
       "<tr>\n",
       "  <th>Exterior1st_Wd Sdng</th>      <td>-1.135e+04</td> <td> 6025.353</td> <td>   -1.883</td> <td> 0.060</td> <td>-2.32e+04</td> <td>  486.905</td>\n",
       "</tr>\n",
       "<tr>\n",
       "  <th>Exterior1st_WdShing</th>      <td>  193.6045</td> <td> 8122.547</td> <td>    0.024</td> <td> 0.981</td> <td>-1.58e+04</td> <td> 1.61e+04</td>\n",
       "</tr>\n",
       "<tr>\n",
       "  <th>Exterior2nd_AsbShng</th>      <td>-1.967e+04</td> <td> 2.06e+04</td> <td>   -0.953</td> <td> 0.341</td> <td>-6.02e+04</td> <td> 2.09e+04</td>\n",
       "</tr>\n",
       "<tr>\n",
       "  <th>Exterior2nd_Brk Cmn</th>      <td> 3057.2449</td> <td>  1.8e+04</td> <td>    0.170</td> <td> 0.865</td> <td>-3.23e+04</td> <td> 3.84e+04</td>\n",
       "</tr>\n",
       "<tr>\n",
       "  <th>Exterior2nd_BrkFace</th>      <td>-6543.6580</td> <td> 9316.969</td> <td>   -0.702</td> <td> 0.483</td> <td>-2.48e+04</td> <td> 1.18e+04</td>\n",
       "</tr>\n",
       "<tr>\n",
       "  <th>Exterior2nd_CBlock</th>       <td>-7014.5340</td> <td>  1.3e+04</td> <td>   -0.540</td> <td> 0.589</td> <td>-3.25e+04</td> <td> 1.85e+04</td>\n",
       "</tr>\n",
       "<tr>\n",
       "  <th>Exterior2nd_CmentBd</th>      <td> 2.561e+04</td> <td> 2.12e+04</td> <td>    1.208</td> <td> 0.228</td> <td> -1.6e+04</td> <td> 6.72e+04</td>\n",
       "</tr>\n",
       "<tr>\n",
       "  <th>Exterior2nd_HdBoard</th>      <td> 2540.0997</td> <td> 6234.430</td> <td>    0.407</td> <td> 0.684</td> <td>-9703.215</td> <td> 1.48e+04</td>\n",
       "</tr>\n",
       "<tr>\n",
       "  <th>Exterior2nd_ImStucc</th>      <td>-4079.7709</td> <td> 1.21e+04</td> <td>   -0.338</td> <td> 0.736</td> <td>-2.78e+04</td> <td> 1.96e+04</td>\n",
       "</tr>\n",
       "<tr>\n",
       "  <th>Exterior2nd_MetalSd</th>      <td> 6399.5008</td> <td> 1.06e+04</td> <td>    0.606</td> <td> 0.545</td> <td>-1.43e+04</td> <td> 2.71e+04</td>\n",
       "</tr>\n",
       "<tr>\n",
       "  <th>Exterior2nd_Other</th>        <td>-2.088e+04</td> <td> 2.07e+04</td> <td>   -1.010</td> <td> 0.313</td> <td>-6.15e+04</td> <td> 1.97e+04</td>\n",
       "</tr>\n",
       "<tr>\n",
       "  <th>Exterior2nd_Plywood</th>      <td> -444.8060</td> <td> 5877.955</td> <td>   -0.076</td> <td> 0.940</td> <td> -1.2e+04</td> <td> 1.11e+04</td>\n",
       "</tr>\n",
       "<tr>\n",
       "  <th>Exterior2nd_Stone</th>        <td>-1.587e+04</td> <td> 2.09e+04</td> <td>   -0.759</td> <td> 0.448</td> <td>-5.69e+04</td> <td> 2.52e+04</td>\n",
       "</tr>\n",
       "<tr>\n",
       "  <th>Exterior2nd_Stucco</th>       <td> 3.409e+04</td> <td> 1.17e+04</td> <td>    2.921</td> <td> 0.004</td> <td> 1.12e+04</td> <td>  5.7e+04</td>\n",
       "</tr>\n",
       "<tr>\n",
       "  <th>Exterior2nd_VinylSd</th>      <td> 7634.1732</td> <td> 7945.595</td> <td>    0.961</td> <td> 0.337</td> <td>-7969.566</td> <td> 2.32e+04</td>\n",
       "</tr>\n",
       "<tr>\n",
       "  <th>Exterior2nd_Wd Sdng</th>      <td> 9585.4239</td> <td> 5881.970</td> <td>    1.630</td> <td> 0.104</td> <td>-1965.720</td> <td> 2.11e+04</td>\n",
       "</tr>\n",
       "<tr>\n",
       "  <th>Exterior2nd_Wd Shng</th>      <td>-1078.4058</td> <td> 7163.692</td> <td>   -0.151</td> <td> 0.880</td> <td>-1.51e+04</td> <td>  1.3e+04</td>\n",
       "</tr>\n",
       "<tr>\n",
       "  <th>MasVnrType_BrkCmn</th>        <td>-1599.9595</td> <td> 6873.784</td> <td>   -0.233</td> <td> 0.816</td> <td>-1.51e+04</td> <td> 1.19e+04</td>\n",
       "</tr>\n",
       "<tr>\n",
       "  <th>MasVnrType_BrkFace</th>       <td> 2896.4609</td> <td> 2638.929</td> <td>    1.098</td> <td> 0.273</td> <td>-2285.927</td> <td> 8078.849</td>\n",
       "</tr>\n",
       "<tr>\n",
       "  <th>MasVnrType_None</th>          <td>  977.4864</td> <td> 2939.769</td> <td>    0.333</td> <td> 0.740</td> <td>-4795.699</td> <td> 6750.672</td>\n",
       "</tr>\n",
       "<tr>\n",
       "  <th>MasVnrType_Stone</th>         <td> 1.105e+04</td> <td> 3139.499</td> <td>    3.520</td> <td> 0.000</td> <td> 4886.140</td> <td> 1.72e+04</td>\n",
       "</tr>\n",
       "<tr>\n",
       "  <th>ExterQual_Ex</th>             <td> 6303.0897</td> <td> 6386.713</td> <td>    0.987</td> <td> 0.324</td> <td>-6239.281</td> <td> 1.88e+04</td>\n",
       "</tr>\n",
       "<tr>\n",
       "  <th>ExterQual_Fa</th>             <td> 1.588e+04</td> <td> 1.24e+04</td> <td>    1.284</td> <td> 0.200</td> <td>-8416.497</td> <td> 4.02e+04</td>\n",
       "</tr>\n",
       "<tr>\n",
       "  <th>ExterQual_Gd</th>             <td>-3579.3241</td> <td> 4650.266</td> <td>   -0.770</td> <td> 0.442</td> <td>-1.27e+04</td> <td> 5552.972</td>\n",
       "</tr>\n",
       "<tr>\n",
       "  <th>ExterQual_TA</th>             <td>-5281.8465</td> <td> 4765.960</td> <td>   -1.108</td> <td> 0.268</td> <td>-1.46e+04</td> <td> 4077.654</td>\n",
       "</tr>\n",
       "<tr>\n",
       "  <th>ExterCond_Fa</th>             <td>-9783.8094</td> <td> 6120.102</td> <td>   -1.599</td> <td> 0.110</td> <td>-2.18e+04</td> <td> 2234.985</td>\n",
       "</tr>\n",
       "<tr>\n",
       "  <th>ExterCond_Gd</th>             <td> 9054.0113</td> <td> 3490.659</td> <td>    2.594</td> <td> 0.010</td> <td> 2198.976</td> <td> 1.59e+04</td>\n",
       "</tr>\n",
       "<tr>\n",
       "  <th>ExterCond_TA</th>             <td> 1.406e+04</td> <td> 3101.689</td> <td>    4.532</td> <td> 0.000</td> <td> 7964.178</td> <td> 2.01e+04</td>\n",
       "</tr>\n",
       "<tr>\n",
       "  <th>Foundation_BrkTil</th>        <td>-4461.4196</td> <td> 4776.184</td> <td>   -0.934</td> <td> 0.351</td> <td>-1.38e+04</td> <td> 4918.158</td>\n",
       "</tr>\n",
       "<tr>\n",
       "  <th>Foundation_CBlock</th>        <td> -696.8586</td> <td> 4026.804</td> <td>   -0.173</td> <td> 0.863</td> <td>-8604.787</td> <td> 7211.069</td>\n",
       "</tr>\n",
       "<tr>\n",
       "  <th>Foundation_PConc</th>         <td>  -59.4035</td> <td> 4408.590</td> <td>   -0.013</td> <td> 0.989</td> <td>-8717.092</td> <td> 8598.285</td>\n",
       "</tr>\n",
       "<tr>\n",
       "  <th>Foundation_Slab</th>          <td>  390.0644</td> <td> 9530.595</td> <td>    0.041</td> <td> 0.967</td> <td>-1.83e+04</td> <td> 1.91e+04</td>\n",
       "</tr>\n",
       "<tr>\n",
       "  <th>Foundation_Stone</th>         <td> 1.815e+04</td> <td> 1.29e+04</td> <td>    1.410</td> <td> 0.159</td> <td>-7134.955</td> <td> 4.34e+04</td>\n",
       "</tr>\n",
       "<tr>\n",
       "  <th>Foundation_Wood</th>          <td> 4.059e-11</td> <td> 2.51e-11</td> <td>    1.617</td> <td> 0.106</td> <td>-8.69e-12</td> <td> 8.99e-11</td>\n",
       "</tr>\n",
       "<tr>\n",
       "  <th>BsmtQual_Ex</th>              <td> 1.583e+04</td> <td> 3862.241</td> <td>    4.099</td> <td> 0.000</td> <td> 8247.459</td> <td> 2.34e+04</td>\n",
       "</tr>\n",
       "<tr>\n",
       "  <th>BsmtQual_Fa</th>              <td> 4986.2576</td> <td> 5706.792</td> <td>    0.874</td> <td> 0.383</td> <td>-6220.868</td> <td> 1.62e+04</td>\n",
       "</tr>\n",
       "<tr>\n",
       "  <th>BsmtQual_Gd</th>              <td>-5700.6219</td> <td> 2651.078</td> <td>   -2.150</td> <td> 0.032</td> <td>-1.09e+04</td> <td> -494.375</td>\n",
       "</tr>\n",
       "<tr>\n",
       "  <th>BsmtQual_No Basement</th>     <td> 2353.5190</td> <td> 2044.784</td> <td>    1.151</td> <td> 0.250</td> <td>-1662.075</td> <td> 6369.113</td>\n",
       "</tr>\n",
       "<tr>\n",
       "  <th>BsmtQual_TA</th>              <td>-4145.8232</td> <td> 2755.382</td> <td>   -1.505</td> <td> 0.133</td> <td>-9556.904</td> <td> 1265.257</td>\n",
       "</tr>\n",
       "<tr>\n",
       "  <th>BsmtCond_Fa</th>              <td>-1547.2971</td> <td> 3466.331</td> <td>   -0.446</td> <td> 0.655</td> <td>-8354.555</td> <td> 5259.961</td>\n",
       "</tr>\n",
       "<tr>\n",
       "  <th>BsmtCond_Gd</th>              <td> 5527.5409</td> <td> 3066.606</td> <td>    1.802</td> <td> 0.072</td> <td> -494.728</td> <td> 1.15e+04</td>\n",
       "</tr>\n",
       "<tr>\n",
       "  <th>BsmtCond_No Basement</th>     <td> 2353.5190</td> <td> 2044.784</td> <td>    1.151</td> <td> 0.250</td> <td>-1662.075</td> <td> 6369.113</td>\n",
       "</tr>\n",
       "<tr>\n",
       "  <th>BsmtCond_TA</th>              <td> 6991.7834</td> <td> 2157.382</td> <td>    3.241</td> <td> 0.001</td> <td> 2755.068</td> <td> 1.12e+04</td>\n",
       "</tr>\n",
       "<tr>\n",
       "  <th>BsmtExposure_Av</th>          <td>  854.9888</td> <td> 1916.049</td> <td>    0.446</td> <td> 0.656</td> <td>-2907.791</td> <td> 4617.769</td>\n",
       "</tr>\n",
       "<tr>\n",
       "  <th>BsmtExposure_Gd</th>          <td> 1.641e+04</td> <td> 2681.451</td> <td>    6.122</td> <td> 0.000</td> <td> 1.11e+04</td> <td> 2.17e+04</td>\n",
       "</tr>\n",
       "<tr>\n",
       "  <th>BsmtExposure_Mn</th>          <td>-3393.2818</td> <td> 2492.803</td> <td>   -1.361</td> <td> 0.174</td> <td>-8288.704</td> <td> 1502.141</td>\n",
       "</tr>\n",
       "<tr>\n",
       "  <th>BsmtExposure_No</th>          <td>-2904.3260</td> <td> 1662.240</td> <td>   -1.747</td> <td> 0.081</td> <td>-6168.671</td> <td>  360.019</td>\n",
       "</tr>\n",
       "<tr>\n",
       "  <th>BsmtExposure_No Basement</th> <td> 2353.5190</td> <td> 2044.784</td> <td>    1.151</td> <td> 0.250</td> <td>-1662.075</td> <td> 6369.113</td>\n",
       "</tr>\n",
       "<tr>\n",
       "  <th>BsmtFinType1_ALQ</th>         <td> 3046.6597</td> <td> 2168.611</td> <td>    1.405</td> <td> 0.161</td> <td>-1212.108</td> <td> 7305.428</td>\n",
       "</tr>\n",
       "<tr>\n",
       "  <th>BsmtFinType1_BLQ</th>         <td>  -65.2461</td> <td> 2421.781</td> <td>   -0.027</td> <td> 0.979</td> <td>-4821.193</td> <td> 4690.701</td>\n",
       "</tr>\n",
       "<tr>\n",
       "  <th>BsmtFinType1_GLQ</th>         <td> 9564.1352</td> <td> 2243.199</td> <td>    4.264</td> <td> 0.000</td> <td> 5158.890</td> <td>  1.4e+04</td>\n",
       "</tr>\n",
       "<tr>\n",
       "  <th>BsmtFinType1_LwQ</th>         <td>-2689.9869</td> <td> 3855.870</td> <td>   -0.698</td> <td> 0.486</td> <td>-1.03e+04</td> <td> 4882.257</td>\n",
       "</tr>\n",
       "<tr>\n",
       "  <th>BsmtFinType1_No Basement</th> <td> 2353.5190</td> <td> 2044.784</td> <td>    1.151</td> <td> 0.250</td> <td>-1662.075</td> <td> 6369.113</td>\n",
       "</tr>\n",
       "<tr>\n",
       "  <th>BsmtFinType1_Rec</th>         <td> -546.2887</td> <td> 2579.077</td> <td>   -0.212</td> <td> 0.832</td> <td>-5611.139</td> <td> 4518.561</td>\n",
       "</tr>\n",
       "<tr>\n",
       "  <th>BsmtFinType1_Unf</th>         <td> 1662.7540</td> <td> 2345.231</td> <td>    0.709</td> <td> 0.479</td> <td>-2942.863</td> <td> 6268.371</td>\n",
       "</tr>\n",
       "<tr>\n",
       "  <th>BsmtFinType2_ALQ</th>         <td> 6184.7252</td> <td> 1.18e+04</td> <td>    0.522</td> <td> 0.602</td> <td>-1.71e+04</td> <td> 2.94e+04</td>\n",
       "</tr>\n",
       "<tr>\n",
       "  <th>BsmtFinType2_BLQ</th>         <td>-5844.7145</td> <td> 5791.580</td> <td>   -1.009</td> <td> 0.313</td> <td>-1.72e+04</td> <td> 5528.921</td>\n",
       "</tr>\n",
       "<tr>\n",
       "  <th>BsmtFinType2_GLQ</th>         <td> 1.797e+04</td> <td> 1.14e+04</td> <td>    1.570</td> <td> 0.117</td> <td>-4504.038</td> <td> 4.05e+04</td>\n",
       "</tr>\n",
       "<tr>\n",
       "  <th>BsmtFinType2_LwQ</th>         <td>-3876.3285</td> <td> 5301.441</td> <td>   -0.731</td> <td> 0.465</td> <td>-1.43e+04</td> <td> 6534.761</td>\n",
       "</tr>\n",
       "<tr>\n",
       "  <th>BsmtFinType2_No Basement</th> <td> 2353.5190</td> <td> 2044.784</td> <td>    1.151</td> <td> 0.250</td> <td>-1662.075</td> <td> 6369.113</td>\n",
       "</tr>\n",
       "<tr>\n",
       "  <th>BsmtFinType2_Rec</th>         <td>-3321.1699</td> <td> 5309.788</td> <td>   -0.625</td> <td> 0.532</td> <td>-1.37e+04</td> <td> 7106.312</td>\n",
       "</tr>\n",
       "<tr>\n",
       "  <th>BsmtFinType2_Unf</th>         <td> -144.3728</td> <td> 5653.815</td> <td>   -0.026</td> <td> 0.980</td> <td>-1.12e+04</td> <td>  1.1e+04</td>\n",
       "</tr>\n",
       "<tr>\n",
       "  <th>Heating_Floor</th>            <td> -8.98e-12</td> <td> 7.67e-12</td> <td>   -1.171</td> <td> 0.242</td> <td> -2.4e-11</td> <td> 6.08e-12</td>\n",
       "</tr>\n",
       "<tr>\n",
       "  <th>Heating_GasA</th>             <td>-4721.5271</td> <td> 8779.689</td> <td>   -0.538</td> <td> 0.591</td> <td> -2.2e+04</td> <td> 1.25e+04</td>\n",
       "</tr>\n",
       "<tr>\n",
       "  <th>Heating_GasW</th>             <td> 1373.6503</td> <td>  1.1e+04</td> <td>    0.125</td> <td> 0.901</td> <td>-2.03e+04</td> <td>  2.3e+04</td>\n",
       "</tr>\n",
       "<tr>\n",
       "  <th>Heating_Grav</th>             <td>-3247.9569</td> <td> 1.42e+04</td> <td>   -0.229</td> <td> 0.819</td> <td>-3.11e+04</td> <td> 2.46e+04</td>\n",
       "</tr>\n",
       "<tr>\n",
       "  <th>Heating_Wall</th>             <td> 1.992e+04</td> <td> 1.86e+04</td> <td>    1.072</td> <td> 0.284</td> <td>-1.66e+04</td> <td> 5.64e+04</td>\n",
       "</tr>\n",
       "<tr>\n",
       "  <th>HeatingQC_Ex</th>             <td> 5822.4382</td> <td> 2185.979</td> <td>    2.664</td> <td> 0.008</td> <td> 1529.563</td> <td> 1.01e+04</td>\n",
       "</tr>\n",
       "<tr>\n",
       "  <th>HeatingQC_Fa</th>             <td> 1033.9247</td> <td> 4540.369</td> <td>    0.228</td> <td> 0.820</td> <td>-7882.554</td> <td> 9950.404</td>\n",
       "</tr>\n",
       "<tr>\n",
       "  <th>HeatingQC_Gd</th>             <td> 2419.0460</td> <td> 2247.963</td> <td>    1.076</td> <td> 0.282</td> <td>-1995.555</td> <td> 6833.647</td>\n",
       "</tr>\n",
       "<tr>\n",
       "  <th>HeatingQC_TA</th>             <td> 4050.1373</td> <td> 2027.738</td> <td>    1.997</td> <td> 0.046</td> <td>   68.020</td> <td> 8032.254</td>\n",
       "</tr>\n",
       "<tr>\n",
       "  <th>CentralAir_N</th>             <td> 7484.9158</td> <td> 2911.740</td> <td>    2.571</td> <td> 0.010</td> <td> 1766.775</td> <td> 1.32e+04</td>\n",
       "</tr>\n",
       "<tr>\n",
       "  <th>CentralAir_Y</th>             <td> 5840.6304</td> <td> 3052.670</td> <td>    1.913</td> <td> 0.056</td> <td> -154.272</td> <td> 1.18e+04</td>\n",
       "</tr>\n",
       "<tr>\n",
       "  <th>Electrical_FuseA</th>         <td> 3809.9138</td> <td> 3272.165</td> <td>    1.164</td> <td> 0.245</td> <td>-2616.037</td> <td> 1.02e+04</td>\n",
       "</tr>\n",
       "<tr>\n",
       "  <th>Electrical_FuseF</th>         <td> 4694.3194</td> <td> 4897.293</td> <td>    0.959</td> <td> 0.338</td> <td>-4923.096</td> <td> 1.43e+04</td>\n",
       "</tr>\n",
       "<tr>\n",
       "  <th>Electrical_FuseP</th>         <td> 5.053e-13</td> <td>  9.1e-12</td> <td>    0.056</td> <td> 0.956</td> <td>-1.74e-11</td> <td> 1.84e-11</td>\n",
       "</tr>\n",
       "<tr>\n",
       "  <th>Electrical_SBrkr</th>         <td> 4821.3131</td> <td> 3036.003</td> <td>    1.588</td> <td> 0.113</td> <td>-1140.858</td> <td> 1.08e+04</td>\n",
       "</tr>\n",
       "<tr>\n",
       "  <th>KitchenQual_Ex</th>           <td> 1.556e+04</td> <td> 3658.840</td> <td>    4.251</td> <td> 0.000</td> <td> 8369.952</td> <td> 2.27e+04</td>\n",
       "</tr>\n",
       "<tr>\n",
       "  <th>KitchenQual_Fa</th>           <td> 1411.9871</td> <td> 5024.981</td> <td>    0.281</td> <td> 0.779</td> <td>-8456.184</td> <td> 1.13e+04</td>\n",
       "</tr>\n",
       "<tr>\n",
       "  <th>KitchenQual_Gd</th>           <td>-3233.2214</td> <td> 2376.988</td> <td>   -1.360</td> <td> 0.174</td> <td>-7901.204</td> <td> 1434.761</td>\n",
       "</tr>\n",
       "<tr>\n",
       "  <th>KitchenQual_TA</th>           <td> -408.4833</td> <td> 2312.634</td> <td>   -0.177</td> <td> 0.860</td> <td>-4950.085</td> <td> 4133.119</td>\n",
       "</tr>\n",
       "<tr>\n",
       "  <th>Functional_Maj1</th>          <td> 8645.1658</td> <td> 9533.667</td> <td>    0.907</td> <td> 0.365</td> <td>-1.01e+04</td> <td> 2.74e+04</td>\n",
       "</tr>\n",
       "<tr>\n",
       "  <th>Functional_Maj2</th>          <td>-2097.9744</td> <td> 1.78e+04</td> <td>   -0.118</td> <td> 0.906</td> <td>-3.71e+04</td> <td> 3.29e+04</td>\n",
       "</tr>\n",
       "<tr>\n",
       "  <th>Functional_Min1</th>          <td>-1107.7488</td> <td> 6229.040</td> <td>   -0.178</td> <td> 0.859</td> <td>-1.33e+04</td> <td> 1.11e+04</td>\n",
       "</tr>\n",
       "<tr>\n",
       "  <th>Functional_Min2</th>          <td> 1.017e+04</td> <td> 6100.429</td> <td>    1.668</td> <td> 0.096</td> <td>-1806.716</td> <td> 2.22e+04</td>\n",
       "</tr>\n",
       "<tr>\n",
       "  <th>Functional_Mod</th>           <td>-1.916e+04</td> <td> 9460.476</td> <td>   -2.025</td> <td> 0.043</td> <td>-3.77e+04</td> <td> -581.096</td>\n",
       "</tr>\n",
       "<tr>\n",
       "  <th>Functional_Typ</th>           <td> 1.687e+04</td> <td> 4592.630</td> <td>    3.674</td> <td> 0.000</td> <td> 7853.342</td> <td> 2.59e+04</td>\n",
       "</tr>\n",
       "<tr>\n",
       "  <th>FireplaceQu_Ex</th>           <td> 5940.2631</td> <td> 6045.509</td> <td>    0.983</td> <td> 0.326</td> <td>-5932.044</td> <td> 1.78e+04</td>\n",
       "</tr>\n",
       "<tr>\n",
       "  <th>FireplaceQu_Fa</th>           <td>-8197.8320</td> <td> 4653.630</td> <td>   -1.762</td> <td> 0.079</td> <td>-1.73e+04</td> <td>  941.072</td>\n",
       "</tr>\n",
       "<tr>\n",
       "  <th>FireplaceQu_Gd</th>           <td> 2565.9780</td> <td> 2492.026</td> <td>    1.030</td> <td> 0.304</td> <td>-2327.918</td> <td> 7459.874</td>\n",
       "</tr>\n",
       "<tr>\n",
       "  <th>FireplaceQu_No Fireplace</th> <td>-1345.0988</td> <td> 3803.861</td> <td>   -0.354</td> <td> 0.724</td> <td>-8815.206</td> <td> 6125.009</td>\n",
       "</tr>\n",
       "<tr>\n",
       "  <th>FireplaceQu_Po</th>           <td> 1.206e+04</td> <td> 5979.304</td> <td>    2.018</td> <td> 0.044</td> <td>  322.171</td> <td> 2.38e+04</td>\n",
       "</tr>\n",
       "<tr>\n",
       "  <th>FireplaceQu_TA</th>           <td> 2297.7719</td> <td> 2693.773</td> <td>    0.853</td> <td> 0.394</td> <td>-2992.320</td> <td> 7587.864</td>\n",
       "</tr>\n",
       "<tr>\n",
       "  <th>GarageType_Attchd</th>        <td>-5968.5855</td> <td> 4384.026</td> <td>   -1.361</td> <td> 0.174</td> <td>-1.46e+04</td> <td> 2640.864</td>\n",
       "</tr>\n",
       "<tr>\n",
       "  <th>GarageType_Basment</th>       <td>-4667.8253</td> <td> 6742.090</td> <td>   -0.692</td> <td> 0.489</td> <td>-1.79e+04</td> <td> 8572.444</td>\n",
       "</tr>\n",
       "<tr>\n",
       "  <th>GarageType_BuiltIn</th>       <td>-2681.8884</td> <td> 5317.297</td> <td>   -0.504</td> <td> 0.614</td> <td>-1.31e+04</td> <td> 7760.339</td>\n",
       "</tr>\n",
       "<tr>\n",
       "  <th>GarageType_CarPort</th>       <td> 2.862e+04</td> <td> 1.67e+04</td> <td>    1.718</td> <td> 0.086</td> <td>-4088.361</td> <td> 6.13e+04</td>\n",
       "</tr>\n",
       "<tr>\n",
       "  <th>GarageType_Detchd</th>        <td>-3586.7363</td> <td> 4487.262</td> <td>   -0.799</td> <td> 0.424</td> <td>-1.24e+04</td> <td> 5225.450</td>\n",
       "</tr>\n",
       "<tr>\n",
       "  <th>GarageType_No Garage</th>     <td> 1611.7606</td> <td> 1769.023</td> <td>    0.911</td> <td> 0.363</td> <td>-1862.286</td> <td> 5085.807</td>\n",
       "</tr>\n",
       "<tr>\n",
       "  <th>GarageFinish_Fin</th>         <td> 2566.2738</td> <td> 1718.576</td> <td>    1.493</td> <td> 0.136</td> <td> -808.704</td> <td> 5941.252</td>\n",
       "</tr>\n",
       "<tr>\n",
       "  <th>GarageFinish_No Garage</th>   <td> 1611.7606</td> <td> 1769.023</td> <td>    0.911</td> <td> 0.363</td> <td>-1862.286</td> <td> 5085.807</td>\n",
       "</tr>\n",
       "<tr>\n",
       "  <th>GarageFinish_RFn</th>         <td> 5360.0327</td> <td> 1560.776</td> <td>    3.434</td> <td> 0.001</td> <td> 2294.946</td> <td> 8425.119</td>\n",
       "</tr>\n",
       "<tr>\n",
       "  <th>GarageFinish_Unf</th>         <td> 3787.4791</td> <td> 1800.048</td> <td>    2.104</td> <td> 0.036</td> <td>  252.504</td> <td> 7322.454</td>\n",
       "</tr>\n",
       "<tr>\n",
       "  <th>GarageQual_Ex</th>            <td> 3857.7788</td> <td> 6395.270</td> <td>    0.603</td> <td> 0.547</td> <td>-8701.396</td> <td> 1.64e+04</td>\n",
       "</tr>\n",
       "<tr>\n",
       "  <th>GarageQual_Fa</th>            <td>-5711.8138</td> <td> 5227.801</td> <td>   -1.093</td> <td> 0.275</td> <td> -1.6e+04</td> <td> 4554.660</td>\n",
       "</tr>\n",
       "<tr>\n",
       "  <th>GarageQual_Gd</th>            <td> 1.087e+04</td> <td> 7405.503</td> <td>    1.467</td> <td> 0.143</td> <td>-3676.568</td> <td> 2.54e+04</td>\n",
       "</tr>\n",
       "<tr>\n",
       "  <th>GarageQual_No Garage</th>     <td> 1611.7606</td> <td> 1769.023</td> <td>    0.911</td> <td> 0.363</td> <td>-1862.286</td> <td> 5085.807</td>\n",
       "</tr>\n",
       "<tr>\n",
       "  <th>GarageQual_Po</th>            <td>         0</td> <td>        0</td> <td>      nan</td> <td>   nan</td> <td>        0</td> <td>        0</td>\n",
       "</tr>\n",
       "<tr>\n",
       "  <th>GarageQual_TA</th>            <td> 2701.2948</td> <td> 3870.065</td> <td>    0.698</td> <td> 0.485</td> <td>-4898.827</td> <td> 1.03e+04</td>\n",
       "</tr>\n",
       "<tr>\n",
       "  <th>GarageCond_Ex</th>            <td> 3857.7788</td> <td> 6395.270</td> <td>    0.603</td> <td> 0.547</td> <td>-8701.396</td> <td> 1.64e+04</td>\n",
       "</tr>\n",
       "<tr>\n",
       "  <th>GarageCond_Fa</th>            <td>-5931.6472</td> <td> 6931.792</td> <td>   -0.856</td> <td> 0.392</td> <td>-1.95e+04</td> <td> 7681.161</td>\n",
       "</tr>\n",
       "<tr>\n",
       "  <th>GarageCond_Gd</th>            <td> 3917.5187</td> <td> 9387.021</td> <td>    0.417</td> <td> 0.677</td> <td>-1.45e+04</td> <td> 2.24e+04</td>\n",
       "</tr>\n",
       "<tr>\n",
       "  <th>GarageCond_No Garage</th>     <td> 1611.7606</td> <td> 1769.023</td> <td>    0.911</td> <td> 0.363</td> <td>-1862.286</td> <td> 5085.807</td>\n",
       "</tr>\n",
       "<tr>\n",
       "  <th>GarageCond_Po</th>            <td> 9405.2894</td> <td>  1.5e+04</td> <td>    0.627</td> <td> 0.531</td> <td>-2.01e+04</td> <td> 3.89e+04</td>\n",
       "</tr>\n",
       "<tr>\n",
       "  <th>GarageCond_TA</th>            <td>  464.8460</td> <td> 5380.312</td> <td>    0.086</td> <td> 0.931</td> <td>-1.01e+04</td> <td>  1.1e+04</td>\n",
       "</tr>\n",
       "<tr>\n",
       "  <th>PavedDrive_N</th>             <td> 7064.6020</td> <td> 3269.168</td> <td>    2.161</td> <td> 0.031</td> <td>  644.537</td> <td> 1.35e+04</td>\n",
       "</tr>\n",
       "<tr>\n",
       "  <th>PavedDrive_P</th>             <td>  918.7346</td> <td> 4147.905</td> <td>    0.221</td> <td> 0.825</td> <td>-7227.014</td> <td> 9064.483</td>\n",
       "</tr>\n",
       "<tr>\n",
       "  <th>PavedDrive_Y</th>             <td> 5342.2096</td> <td> 2706.584</td> <td>    1.974</td> <td> 0.049</td> <td>   26.959</td> <td> 1.07e+04</td>\n",
       "</tr>\n",
       "<tr>\n",
       "  <th>PoolQC_No Pool</th>           <td> 1.333e+04</td> <td> 2178.289</td> <td>    6.117</td> <td> 0.000</td> <td> 9047.773</td> <td> 1.76e+04</td>\n",
       "</tr>\n",
       "<tr>\n",
       "  <th>Fence_GdPrv</th>              <td> 2420.8700</td> <td> 4093.444</td> <td>    0.591</td> <td> 0.554</td> <td>-5617.928</td> <td> 1.05e+04</td>\n",
       "</tr>\n",
       "<tr>\n",
       "  <th>Fence_GdWo</th>               <td> 3508.6488</td> <td> 3570.629</td> <td>    0.983</td> <td> 0.326</td> <td>-3503.433</td> <td> 1.05e+04</td>\n",
       "</tr>\n",
       "<tr>\n",
       "  <th>Fence_MnPrv</th>              <td> 5796.2033</td> <td> 2777.244</td> <td>    2.087</td> <td> 0.037</td> <td>  342.190</td> <td> 1.13e+04</td>\n",
       "</tr>\n",
       "<tr>\n",
       "  <th>Fence_MnWw</th>               <td>-3456.9503</td> <td> 6793.835</td> <td>   -0.509</td> <td> 0.611</td> <td>-1.68e+04</td> <td> 9884.936</td>\n",
       "</tr>\n",
       "<tr>\n",
       "  <th>Fence_No Fence</th>           <td> 5056.7744</td> <td> 2370.186</td> <td>    2.133</td> <td> 0.033</td> <td>  402.150</td> <td> 9711.399</td>\n",
       "</tr>\n",
       "<tr>\n",
       "  <th>MiscFeature_None</th>         <td> 3322.3013</td> <td> 2487.796</td> <td>    1.335</td> <td> 0.182</td> <td>-1563.288</td> <td> 8207.890</td>\n",
       "</tr>\n",
       "<tr>\n",
       "  <th>MiscFeature_Shed</th>         <td>     1e+04</td> <td> 2682.370</td> <td>    3.729</td> <td> 0.000</td> <td> 4735.546</td> <td> 1.53e+04</td>\n",
       "</tr>\n",
       "<tr>\n",
       "  <th>SaleType_COD</th>             <td>-3434.2107</td> <td> 6584.954</td> <td>   -0.522</td> <td> 0.602</td> <td>-1.64e+04</td> <td> 9497.470</td>\n",
       "</tr>\n",
       "<tr>\n",
       "  <th>SaleType_CWD</th>             <td>  4.15e+04</td> <td> 1.35e+04</td> <td>    3.073</td> <td> 0.002</td> <td>  1.5e+04</td> <td>  6.8e+04</td>\n",
       "</tr>\n",
       "<tr>\n",
       "  <th>SaleType_Con</th>             <td> 1.237e+04</td> <td> 1.79e+04</td> <td>    0.692</td> <td> 0.489</td> <td>-2.27e+04</td> <td> 4.75e+04</td>\n",
       "</tr>\n",
       "<tr>\n",
       "  <th>SaleType_ConLD</th>           <td>-7131.8047</td> <td> 1.05e+04</td> <td>   -0.677</td> <td> 0.498</td> <td>-2.78e+04</td> <td> 1.35e+04</td>\n",
       "</tr>\n",
       "<tr>\n",
       "  <th>SaleType_ConLI</th>           <td>-4125.3259</td> <td> 1.14e+04</td> <td>   -0.361</td> <td> 0.718</td> <td>-2.66e+04</td> <td> 1.83e+04</td>\n",
       "</tr>\n",
       "<tr>\n",
       "  <th>SaleType_ConLw</th>           <td>-8076.5383</td> <td> 1.97e+04</td> <td>   -0.410</td> <td> 0.682</td> <td>-4.67e+04</td> <td> 3.06e+04</td>\n",
       "</tr>\n",
       "<tr>\n",
       "  <th>SaleType_New</th>             <td>-1.892e+04</td> <td> 1.41e+04</td> <td>   -1.346</td> <td> 0.179</td> <td>-4.65e+04</td> <td> 8692.728</td>\n",
       "</tr>\n",
       "<tr>\n",
       "  <th>SaleType_Oth</th>             <td> -383.6193</td> <td> 1.34e+04</td> <td>   -0.029</td> <td> 0.977</td> <td>-2.66e+04</td> <td> 2.59e+04</td>\n",
       "</tr>\n",
       "<tr>\n",
       "  <th>SaleType_WD</th>              <td> 1530.5175</td> <td> 4953.654</td> <td>    0.309</td> <td> 0.757</td> <td>-8197.579</td> <td> 1.13e+04</td>\n",
       "</tr>\n",
       "<tr>\n",
       "  <th>SaleCondition_Abnorml</th>    <td> 2100.9827</td> <td> 5571.741</td> <td>    0.377</td> <td> 0.706</td> <td>-8840.927</td> <td>  1.3e+04</td>\n",
       "</tr>\n",
       "<tr>\n",
       "  <th>SaleCondition_AdjLand</th>    <td>  2.63e+04</td> <td> 1.53e+04</td> <td>    1.717</td> <td> 0.087</td> <td>-3787.507</td> <td> 5.64e+04</td>\n",
       "</tr>\n",
       "<tr>\n",
       "  <th>SaleCondition_Alloca</th>     <td>-5.745e+04</td> <td> 1.74e+04</td> <td>   -3.311</td> <td> 0.001</td> <td>-9.15e+04</td> <td>-2.34e+04</td>\n",
       "</tr>\n",
       "<tr>\n",
       "  <th>SaleCondition_Family</th>     <td>-1838.3893</td> <td> 7511.557</td> <td>   -0.245</td> <td> 0.807</td> <td>-1.66e+04</td> <td> 1.29e+04</td>\n",
       "</tr>\n",
       "<tr>\n",
       "  <th>SaleCondition_Normal</th>     <td> 6724.2173</td> <td> 5173.617</td> <td>    1.300</td> <td> 0.194</td> <td>-3435.848</td> <td> 1.69e+04</td>\n",
       "</tr>\n",
       "<tr>\n",
       "  <th>SaleCondition_Partial</th>    <td> 3.749e+04</td> <td> 1.37e+04</td> <td>    2.735</td> <td> 0.006</td> <td> 1.06e+04</td> <td> 6.44e+04</td>\n",
       "</tr>\n",
       "</table>\n",
       "<table class=\"simpletable\">\n",
       "<tr>\n",
       "  <th>Omnibus:</th>       <td>158.266</td> <th>  Durbin-Watson:     </th> <td>   2.124</td>\n",
       "</tr>\n",
       "<tr>\n",
       "  <th>Prob(Omnibus):</th> <td> 0.000</td>  <th>  Jarque-Bera (JB):  </th> <td>3625.343</td>\n",
       "</tr>\n",
       "<tr>\n",
       "  <th>Skew:</th>          <td> 0.090</td>  <th>  Prob(JB):          </th> <td>    0.00</td>\n",
       "</tr>\n",
       "<tr>\n",
       "  <th>Kurtosis:</th>      <td>13.325</td>  <th>  Cond. No.          </th> <td>1.25e+16</td>\n",
       "</tr>\n",
       "</table><br/><br/>Notes:<br/>[1] Standard Errors assume that the covariance matrix of the errors is correctly specified.<br/>[2] The smallest eigenvalue is 1.41e-28. This might indicate that there are<br/>strong multicollinearity problems or that the design matrix is singular."
      ],
      "text/plain": [
       "<class 'statsmodels.iolib.summary.Summary'>\n",
       "\"\"\"\n",
       "                            OLS Regression Results                            \n",
       "==============================================================================\n",
       "Dep. Variable:              SalePrice   R-squared:                       0.944\n",
       "Model:                            OLS   Adj. R-squared:                  0.926\n",
       "Method:                 Least Squares   F-statistic:                     52.02\n",
       "Date:                Tue, 25 Oct 2022   Prob (F-statistic):          6.08e-292\n",
       "Time:                        13:19:15   Log-Likelihood:                -9054.5\n",
       "No. Observations:                 816   AIC:                         1.851e+04\n",
       "Df Residuals:                     616   BIC:                         1.945e+04\n",
       "Df Model:                         199                                         \n",
       "Covariance Type:            nonrobust                                         \n",
       "============================================================================================\n",
       "                               coef    std err          t      P>|t|      [0.025      0.975]\n",
       "--------------------------------------------------------------------------------------------\n",
       "const                     1.333e+04   2178.289      6.117      0.000    9047.773    1.76e+04\n",
       "LotFrontage               -266.4252   1146.443     -0.232      0.816   -2517.836    1984.985\n",
       "LotArea                   5142.1532   1239.017      4.150      0.000    2708.943    7575.363\n",
       "OverallQual               8225.7713   1600.579      5.139      0.000    5082.519    1.14e+04\n",
       "YearBuilt                 6684.8536   2824.732      2.367      0.018    1137.581    1.22e+04\n",
       "YearRemodAdd              5781.0512   1373.400      4.209      0.000    3083.937    8478.166\n",
       "MasVnrArea                -861.1007   1280.919     -0.672      0.502   -3376.599    1654.398\n",
       "BsmtFinSF1                -464.0506   8501.900     -0.055      0.956   -1.72e+04    1.62e+04\n",
       "BsmtUnfSF                -7112.4224   8957.034     -0.794      0.427   -2.47e+04    1.05e+04\n",
       "TotalBsmtSF               1.422e+04   7908.072      1.799      0.073   -1306.003    2.98e+04\n",
       "1stFlrSF                  7202.6049   4.76e+04      0.151      0.880   -8.63e+04    1.01e+05\n",
       "2ndFlrSF                  1.771e+04   5.82e+04      0.304      0.761   -9.67e+04    1.32e+05\n",
       "GrLivArea                 9592.0505   6.22e+04      0.154      0.878   -1.13e+05    1.32e+05\n",
       "BsmtFullBath              -278.2839   1143.314     -0.243      0.808   -2523.550    1966.982\n",
       "FullBath                  -583.2277   1492.683     -0.391      0.696   -3514.591    2348.136\n",
       "HalfBath                   251.2976   1257.040      0.200      0.842   -2217.306    2719.901\n",
       "BedroomAbvGr             -1100.1187   1255.045     -0.877      0.381   -3564.805    1364.568\n",
       "TotRmsAbvGrd               426.2803   1655.399      0.258      0.797   -2824.630    3677.191\n",
       "Fireplaces                -418.4419   2049.280     -0.204      0.838   -4442.865    3605.981\n",
       "GarageYrBlt              -2394.4310   1933.742     -1.238      0.216   -6191.958    1403.096\n",
       "GarageCars                2667.5878   1911.611      1.395      0.163   -1086.476    6421.652\n",
       "GarageArea                4431.6809   1858.717      2.384      0.017     781.490    8081.872\n",
       "WoodDeckSF                3440.2774    813.520      4.229      0.000    1842.669    5037.886\n",
       "OpenPorchSF               2182.2623    862.036      2.532      0.012     489.376    3875.149\n",
       "ScreenPorch               1094.1589    723.836      1.512      0.131    -327.326    2515.644\n",
       "MSZoning_C (all)         -2.305e+04   1.02e+04     -2.251      0.025   -4.32e+04   -2940.859\n",
       "MSZoning_FV               2.347e+04   6684.528      3.511      0.000    1.03e+04    3.66e+04\n",
       "MSZoning_RH              -1383.8473   8738.917     -0.158      0.874   -1.85e+04    1.58e+04\n",
       "MSZoning_RL               6009.6151   4114.647      1.461      0.145   -2070.821    1.41e+04\n",
       "MSZoning_RM               8278.5218   4796.827      1.726      0.085   -1141.596    1.77e+04\n",
       "Alley_Grvl                6168.4607   4127.275      1.495      0.136   -1936.775    1.43e+04\n",
       "Alley_No alley access     4676.3276   2603.904      1.796      0.073    -437.278    9789.933\n",
       "Alley_Pave                2480.7580   3989.321      0.622      0.534   -5353.560    1.03e+04\n",
       "LotShape_IR1              8072.9482   3431.747      2.352      0.019    1333.605    1.48e+04\n",
       "LotShape_IR2              6544.2369   4875.612      1.342      0.180   -3030.600    1.61e+04\n",
       "LotShape_IR3             -8377.3737   9047.254     -0.926      0.355   -2.61e+04    9389.827\n",
       "LotShape_Reg              7085.7349   3569.262      1.985      0.048      76.339    1.41e+04\n",
       "LandContour_Bnk           5819.6088   4444.299      1.309      0.191   -2908.206    1.45e+04\n",
       "LandContour_HLS           8573.0029   3943.517      2.174      0.030     828.635    1.63e+04\n",
       "LandContour_Low          -6148.3567   6215.337     -0.989      0.323   -1.84e+04    6057.463\n",
       "LandContour_Lvl           5081.2913   2736.468      1.857      0.064    -292.646    1.05e+04\n",
       "LotConfig_Corner          6895.2198   3074.720      2.243      0.025     857.016    1.29e+04\n",
       "LotConfig_CulDSac         1.031e+04   3660.739      2.817      0.005    3123.874    1.75e+04\n",
       "LotConfig_FR2             -657.1564   4183.800     -0.157      0.875   -8873.397    7559.084\n",
       "LotConfig_FR3            -8557.7873   9112.539     -0.939      0.348   -2.65e+04    9337.621\n",
       "LotConfig_Inside          5332.3539   2739.536      1.946      0.052     -47.609    1.07e+04\n",
       "Neighborhood_Blmngtn      1.301e+04   7342.270      1.772      0.077   -1405.891    2.74e+04\n",
       "Neighborhood_Blueste     -3987.1539   1.95e+04     -0.204      0.838   -4.23e+04    3.43e+04\n",
       "Neighborhood_BrDale       1.291e+04   8643.301      1.494      0.136   -4062.833    2.99e+04\n",
       "Neighborhood_BrkSide     -1630.8758   6475.764     -0.252      0.801   -1.43e+04    1.11e+04\n",
       "Neighborhood_ClearCr     -1.133e+04   7861.716     -1.441      0.150   -2.68e+04    4113.714\n",
       "Neighborhood_CollgCr     -5219.1262   3266.575     -1.598      0.111   -1.16e+04    1195.848\n",
       "Neighborhood_Crawfor      2.627e+04   6609.171      3.975      0.000    1.33e+04    3.92e+04\n",
       "Neighborhood_Edwards     -1.336e+04   3680.315     -3.631      0.000   -2.06e+04   -6135.110\n",
       "Neighborhood_Gilbert     -5798.4543   4403.101     -1.317      0.188   -1.44e+04    2848.454\n",
       "Neighborhood_IDOTRR      -5797.9849   7695.283     -0.753      0.451   -2.09e+04    9314.185\n",
       "Neighborhood_MeadowV     -1.156e+04   9382.908     -1.232      0.218      -3e+04    6866.203\n",
       "Neighborhood_Mitchel     -1.066e+04   4813.483     -2.214      0.027   -2.01e+04   -1204.720\n",
       "Neighborhood_NAmes       -6699.8951   3355.145     -1.997      0.046   -1.33e+04    -110.986\n",
       "Neighborhood_NPkVill      2.025e+04   1.44e+04      1.405      0.160   -8048.268    4.86e+04\n",
       "Neighborhood_NWAmes      -9890.7946   4281.629     -2.310      0.021   -1.83e+04   -1482.436\n",
       "Neighborhood_NoRidge      6732.0934   6162.427      1.092      0.275   -5369.819    1.88e+04\n",
       "Neighborhood_NridgHt      1.365e+04   4874.324      2.801      0.005    4080.410    2.32e+04\n",
       "Neighborhood_OldTown     -9852.7250   6341.064     -1.554      0.121   -2.23e+04    2599.999\n",
       "Neighborhood_SWISU       -1.276e+04   8238.537     -1.549      0.122   -2.89e+04    3420.751\n",
       "Neighborhood_Sawyer      -5095.8935   3959.619     -1.287      0.199   -1.29e+04    2680.096\n",
       "Neighborhood_SawyerW        -8.8963   4511.766     -0.002      0.998   -8869.205    8851.412\n",
       "Neighborhood_Somerst     -6422.9664   6530.078     -0.984      0.326   -1.92e+04    6400.948\n",
       "Neighborhood_StoneBr      4.472e+04   6436.249      6.949      0.000    3.21e+04    5.74e+04\n",
       "Neighborhood_Timber      -8672.2341   5346.982     -1.622      0.105   -1.92e+04    1828.289\n",
       "Neighborhood_Veenker      4510.2577   9657.133      0.467      0.641   -1.45e+04    2.35e+04\n",
       "Condition1_Artery        -3157.2641   6177.245     -0.511      0.609   -1.53e+04    8973.749\n",
       "Condition1_Feedr          2747.3615   4800.957      0.572      0.567   -6680.866    1.22e+04\n",
       "Condition1_Norm           9393.5077   3755.077      2.502      0.013    2019.204    1.68e+04\n",
       "Condition1_PosA          -8188.6936   1.12e+04     -0.728      0.467   -3.03e+04    1.39e+04\n",
       "Condition1_PosN           1.872e+04   9321.359      2.008      0.045     409.957     3.7e+04\n",
       "Condition1_RRAe          -1.938e+04   7641.144     -2.536      0.011   -3.44e+04   -4374.980\n",
       "Condition1_RRAn           3353.5147   6594.816      0.509      0.611   -9597.534    1.63e+04\n",
       "Condition1_RRNe           5.296e-11   1.89e-10      0.281      0.779   -3.17e-10    4.23e-10\n",
       "Condition1_RRNn           9842.4989   1.79e+04      0.549      0.583   -2.53e+04     4.5e+04\n",
       "Condition2_Feedr          1.129e+04   1.72e+04      0.656      0.512   -2.25e+04    4.51e+04\n",
       "Condition2_Norm           2034.2435   1.59e+04      0.128      0.898   -2.92e+04    3.33e+04\n",
       "Condition2_RRNn          -1.875e-11   3.06e-10     -0.061      0.951   -6.19e-10    5.82e-10\n",
       "BldgType_1Fam             2.318e+04   6474.453      3.580      0.000    1.05e+04    3.59e+04\n",
       "BldgType_2fmCon           -1.82e+04   2.35e+04     -0.775      0.439   -6.43e+04    2.79e+04\n",
       "BldgType_Duplex           5618.5176   1.05e+04      0.536      0.592    -1.5e+04    2.62e+04\n",
       "BldgType_Twnhs            -407.0774   7620.940     -0.053      0.957   -1.54e+04    1.46e+04\n",
       "BldgType_TwnhsE           3138.1690   6735.720      0.466      0.641   -1.01e+04    1.64e+04\n",
       "HouseStyle_1.5Fin          533.9376   3926.815      0.136      0.892   -7177.630    8245.505\n",
       "HouseStyle_1.5Unf          1.78e+04   9389.569      1.895      0.059    -643.557    3.62e+04\n",
       "HouseStyle_1Story         1.032e+04   3730.655      2.767      0.006    2997.000    1.76e+04\n",
       "HouseStyle_2.5Unf        -1.777e+04    1.3e+04     -1.364      0.173   -4.34e+04    7813.418\n",
       "HouseStyle_2Story        -3270.9492   4419.260     -0.740      0.459   -1.19e+04    5407.692\n",
       "HouseStyle_SFoyer         3999.6207   5572.050      0.718      0.473   -6942.896    1.49e+04\n",
       "HouseStyle_SLvl           1717.1860   4605.704      0.373      0.709   -7327.599    1.08e+04\n",
       "RoofStyle_Flat           -3109.8700   8543.276     -0.364      0.716   -1.99e+04    1.37e+04\n",
       "RoofStyle_Gable            985.1964   6746.479      0.146      0.884   -1.23e+04    1.42e+04\n",
       "RoofStyle_Gambrel         5733.9528   1.06e+04      0.542      0.588    -1.5e+04    2.65e+04\n",
       "RoofStyle_Hip             3129.1665   7000.077      0.447      0.655   -1.06e+04    1.69e+04\n",
       "RoofStyle_Mansard         6587.1005   1.67e+04      0.396      0.693   -2.61e+04    3.93e+04\n",
       "RoofMatl_CompShg          1.705e+04    1.2e+04      1.420      0.156   -6536.289    4.06e+04\n",
       "RoofMatl_Tar&Grv         -3109.8700   8543.276     -0.364      0.716   -1.99e+04    1.37e+04\n",
       "RoofMatl_WdShake         -5347.4162   2.34e+04     -0.228      0.820   -5.14e+04    4.07e+04\n",
       "RoofMatl_WdShngl          4730.3204   1.85e+04      0.255      0.799   -3.17e+04    4.11e+04\n",
       "Exterior1st_AsbShng       2.743e+04   2.27e+04      1.207      0.228   -1.72e+04    7.21e+04\n",
       "Exterior1st_BrkComm       2.184e+04   2.51e+04      0.870      0.385   -2.75e+04    7.11e+04\n",
       "Exterior1st_BrkFace       1.608e+04   7468.630      2.153      0.032    1412.222    3.07e+04\n",
       "Exterior1st_CBlock       -7014.5340    1.3e+04     -0.540      0.589   -3.25e+04    1.85e+04\n",
       "Exterior1st_CemntBd      -1.934e+04   2.05e+04     -0.943      0.346   -5.96e+04     2.1e+04\n",
       "Exterior1st_HdBoard      -8521.9747   6131.057     -1.390      0.165   -2.06e+04    3518.333\n",
       "Exterior1st_ImStucc       1.832e+04   2.26e+04      0.811      0.418    -2.6e+04    6.27e+04\n",
       "Exterior1st_MetalSd       -812.9788   1.02e+04     -0.080      0.937   -2.09e+04    1.93e+04\n",
       "Exterior1st_Plywood      -7092.3513   6376.576     -1.112      0.266   -1.96e+04    5430.113\n",
       "Exterior1st_Stucco       -7367.6951   1.19e+04     -0.619      0.536   -3.07e+04     1.6e+04\n",
       "Exterior1st_VinylSd      -9051.2916   8370.531     -1.081      0.280   -2.55e+04    7386.946\n",
       "Exterior1st_Wd Sdng      -1.135e+04   6025.353     -1.883      0.060   -2.32e+04     486.905\n",
       "Exterior1st_WdShing        193.6045   8122.547      0.024      0.981   -1.58e+04    1.61e+04\n",
       "Exterior2nd_AsbShng      -1.967e+04   2.06e+04     -0.953      0.341   -6.02e+04    2.09e+04\n",
       "Exterior2nd_Brk Cmn       3057.2449    1.8e+04      0.170      0.865   -3.23e+04    3.84e+04\n",
       "Exterior2nd_BrkFace      -6543.6580   9316.969     -0.702      0.483   -2.48e+04    1.18e+04\n",
       "Exterior2nd_CBlock       -7014.5340    1.3e+04     -0.540      0.589   -3.25e+04    1.85e+04\n",
       "Exterior2nd_CmentBd       2.561e+04   2.12e+04      1.208      0.228    -1.6e+04    6.72e+04\n",
       "Exterior2nd_HdBoard       2540.0997   6234.430      0.407      0.684   -9703.215    1.48e+04\n",
       "Exterior2nd_ImStucc      -4079.7709   1.21e+04     -0.338      0.736   -2.78e+04    1.96e+04\n",
       "Exterior2nd_MetalSd       6399.5008   1.06e+04      0.606      0.545   -1.43e+04    2.71e+04\n",
       "Exterior2nd_Other        -2.088e+04   2.07e+04     -1.010      0.313   -6.15e+04    1.97e+04\n",
       "Exterior2nd_Plywood       -444.8060   5877.955     -0.076      0.940    -1.2e+04    1.11e+04\n",
       "Exterior2nd_Stone        -1.587e+04   2.09e+04     -0.759      0.448   -5.69e+04    2.52e+04\n",
       "Exterior2nd_Stucco        3.409e+04   1.17e+04      2.921      0.004    1.12e+04     5.7e+04\n",
       "Exterior2nd_VinylSd       7634.1732   7945.595      0.961      0.337   -7969.566    2.32e+04\n",
       "Exterior2nd_Wd Sdng       9585.4239   5881.970      1.630      0.104   -1965.720    2.11e+04\n",
       "Exterior2nd_Wd Shng      -1078.4058   7163.692     -0.151      0.880   -1.51e+04     1.3e+04\n",
       "MasVnrType_BrkCmn        -1599.9595   6873.784     -0.233      0.816   -1.51e+04    1.19e+04\n",
       "MasVnrType_BrkFace        2896.4609   2638.929      1.098      0.273   -2285.927    8078.849\n",
       "MasVnrType_None            977.4864   2939.769      0.333      0.740   -4795.699    6750.672\n",
       "MasVnrType_Stone          1.105e+04   3139.499      3.520      0.000    4886.140    1.72e+04\n",
       "ExterQual_Ex              6303.0897   6386.713      0.987      0.324   -6239.281    1.88e+04\n",
       "ExterQual_Fa              1.588e+04   1.24e+04      1.284      0.200   -8416.497    4.02e+04\n",
       "ExterQual_Gd             -3579.3241   4650.266     -0.770      0.442   -1.27e+04    5552.972\n",
       "ExterQual_TA             -5281.8465   4765.960     -1.108      0.268   -1.46e+04    4077.654\n",
       "ExterCond_Fa             -9783.8094   6120.102     -1.599      0.110   -2.18e+04    2234.985\n",
       "ExterCond_Gd              9054.0113   3490.659      2.594      0.010    2198.976    1.59e+04\n",
       "ExterCond_TA              1.406e+04   3101.689      4.532      0.000    7964.178    2.01e+04\n",
       "Foundation_BrkTil        -4461.4196   4776.184     -0.934      0.351   -1.38e+04    4918.158\n",
       "Foundation_CBlock         -696.8586   4026.804     -0.173      0.863   -8604.787    7211.069\n",
       "Foundation_PConc           -59.4035   4408.590     -0.013      0.989   -8717.092    8598.285\n",
       "Foundation_Slab            390.0644   9530.595      0.041      0.967   -1.83e+04    1.91e+04\n",
       "Foundation_Stone          1.815e+04   1.29e+04      1.410      0.159   -7134.955    4.34e+04\n",
       "Foundation_Wood           4.059e-11   2.51e-11      1.617      0.106   -8.69e-12    8.99e-11\n",
       "BsmtQual_Ex               1.583e+04   3862.241      4.099      0.000    8247.459    2.34e+04\n",
       "BsmtQual_Fa               4986.2576   5706.792      0.874      0.383   -6220.868    1.62e+04\n",
       "BsmtQual_Gd              -5700.6219   2651.078     -2.150      0.032   -1.09e+04    -494.375\n",
       "BsmtQual_No Basement      2353.5190   2044.784      1.151      0.250   -1662.075    6369.113\n",
       "BsmtQual_TA              -4145.8232   2755.382     -1.505      0.133   -9556.904    1265.257\n",
       "BsmtCond_Fa              -1547.2971   3466.331     -0.446      0.655   -8354.555    5259.961\n",
       "BsmtCond_Gd               5527.5409   3066.606      1.802      0.072    -494.728    1.15e+04\n",
       "BsmtCond_No Basement      2353.5190   2044.784      1.151      0.250   -1662.075    6369.113\n",
       "BsmtCond_TA               6991.7834   2157.382      3.241      0.001    2755.068    1.12e+04\n",
       "BsmtExposure_Av            854.9888   1916.049      0.446      0.656   -2907.791    4617.769\n",
       "BsmtExposure_Gd           1.641e+04   2681.451      6.122      0.000    1.11e+04    2.17e+04\n",
       "BsmtExposure_Mn          -3393.2818   2492.803     -1.361      0.174   -8288.704    1502.141\n",
       "BsmtExposure_No          -2904.3260   1662.240     -1.747      0.081   -6168.671     360.019\n",
       "BsmtExposure_No Basement  2353.5190   2044.784      1.151      0.250   -1662.075    6369.113\n",
       "BsmtFinType1_ALQ          3046.6597   2168.611      1.405      0.161   -1212.108    7305.428\n",
       "BsmtFinType1_BLQ           -65.2461   2421.781     -0.027      0.979   -4821.193    4690.701\n",
       "BsmtFinType1_GLQ          9564.1352   2243.199      4.264      0.000    5158.890     1.4e+04\n",
       "BsmtFinType1_LwQ         -2689.9869   3855.870     -0.698      0.486   -1.03e+04    4882.257\n",
       "BsmtFinType1_No Basement  2353.5190   2044.784      1.151      0.250   -1662.075    6369.113\n",
       "BsmtFinType1_Rec          -546.2887   2579.077     -0.212      0.832   -5611.139    4518.561\n",
       "BsmtFinType1_Unf          1662.7540   2345.231      0.709      0.479   -2942.863    6268.371\n",
       "BsmtFinType2_ALQ          6184.7252   1.18e+04      0.522      0.602   -1.71e+04    2.94e+04\n",
       "BsmtFinType2_BLQ         -5844.7145   5791.580     -1.009      0.313   -1.72e+04    5528.921\n",
       "BsmtFinType2_GLQ          1.797e+04   1.14e+04      1.570      0.117   -4504.038    4.05e+04\n",
       "BsmtFinType2_LwQ         -3876.3285   5301.441     -0.731      0.465   -1.43e+04    6534.761\n",
       "BsmtFinType2_No Basement  2353.5190   2044.784      1.151      0.250   -1662.075    6369.113\n",
       "BsmtFinType2_Rec         -3321.1699   5309.788     -0.625      0.532   -1.37e+04    7106.312\n",
       "BsmtFinType2_Unf          -144.3728   5653.815     -0.026      0.980   -1.12e+04     1.1e+04\n",
       "Heating_Floor             -8.98e-12   7.67e-12     -1.171      0.242    -2.4e-11    6.08e-12\n",
       "Heating_GasA             -4721.5271   8779.689     -0.538      0.591    -2.2e+04    1.25e+04\n",
       "Heating_GasW              1373.6503    1.1e+04      0.125      0.901   -2.03e+04     2.3e+04\n",
       "Heating_Grav             -3247.9569   1.42e+04     -0.229      0.819   -3.11e+04    2.46e+04\n",
       "Heating_Wall              1.992e+04   1.86e+04      1.072      0.284   -1.66e+04    5.64e+04\n",
       "HeatingQC_Ex              5822.4382   2185.979      2.664      0.008    1529.563    1.01e+04\n",
       "HeatingQC_Fa              1033.9247   4540.369      0.228      0.820   -7882.554    9950.404\n",
       "HeatingQC_Gd              2419.0460   2247.963      1.076      0.282   -1995.555    6833.647\n",
       "HeatingQC_TA              4050.1373   2027.738      1.997      0.046      68.020    8032.254\n",
       "CentralAir_N              7484.9158   2911.740      2.571      0.010    1766.775    1.32e+04\n",
       "CentralAir_Y              5840.6304   3052.670      1.913      0.056    -154.272    1.18e+04\n",
       "Electrical_FuseA          3809.9138   3272.165      1.164      0.245   -2616.037    1.02e+04\n",
       "Electrical_FuseF          4694.3194   4897.293      0.959      0.338   -4923.096    1.43e+04\n",
       "Electrical_FuseP          5.053e-13    9.1e-12      0.056      0.956   -1.74e-11    1.84e-11\n",
       "Electrical_SBrkr          4821.3131   3036.003      1.588      0.113   -1140.858    1.08e+04\n",
       "KitchenQual_Ex            1.556e+04   3658.840      4.251      0.000    8369.952    2.27e+04\n",
       "KitchenQual_Fa            1411.9871   5024.981      0.281      0.779   -8456.184    1.13e+04\n",
       "KitchenQual_Gd           -3233.2214   2376.988     -1.360      0.174   -7901.204    1434.761\n",
       "KitchenQual_TA            -408.4833   2312.634     -0.177      0.860   -4950.085    4133.119\n",
       "Functional_Maj1           8645.1658   9533.667      0.907      0.365   -1.01e+04    2.74e+04\n",
       "Functional_Maj2          -2097.9744   1.78e+04     -0.118      0.906   -3.71e+04    3.29e+04\n",
       "Functional_Min1          -1107.7488   6229.040     -0.178      0.859   -1.33e+04    1.11e+04\n",
       "Functional_Min2           1.017e+04   6100.429      1.668      0.096   -1806.716    2.22e+04\n",
       "Functional_Mod           -1.916e+04   9460.476     -2.025      0.043   -3.77e+04    -581.096\n",
       "Functional_Typ            1.687e+04   4592.630      3.674      0.000    7853.342    2.59e+04\n",
       "FireplaceQu_Ex            5940.2631   6045.509      0.983      0.326   -5932.044    1.78e+04\n",
       "FireplaceQu_Fa           -8197.8320   4653.630     -1.762      0.079   -1.73e+04     941.072\n",
       "FireplaceQu_Gd            2565.9780   2492.026      1.030      0.304   -2327.918    7459.874\n",
       "FireplaceQu_No Fireplace -1345.0988   3803.861     -0.354      0.724   -8815.206    6125.009\n",
       "FireplaceQu_Po            1.206e+04   5979.304      2.018      0.044     322.171    2.38e+04\n",
       "FireplaceQu_TA            2297.7719   2693.773      0.853      0.394   -2992.320    7587.864\n",
       "GarageType_Attchd        -5968.5855   4384.026     -1.361      0.174   -1.46e+04    2640.864\n",
       "GarageType_Basment       -4667.8253   6742.090     -0.692      0.489   -1.79e+04    8572.444\n",
       "GarageType_BuiltIn       -2681.8884   5317.297     -0.504      0.614   -1.31e+04    7760.339\n",
       "GarageType_CarPort        2.862e+04   1.67e+04      1.718      0.086   -4088.361    6.13e+04\n",
       "GarageType_Detchd        -3586.7363   4487.262     -0.799      0.424   -1.24e+04    5225.450\n",
       "GarageType_No Garage      1611.7606   1769.023      0.911      0.363   -1862.286    5085.807\n",
       "GarageFinish_Fin          2566.2738   1718.576      1.493      0.136    -808.704    5941.252\n",
       "GarageFinish_No Garage    1611.7606   1769.023      0.911      0.363   -1862.286    5085.807\n",
       "GarageFinish_RFn          5360.0327   1560.776      3.434      0.001    2294.946    8425.119\n",
       "GarageFinish_Unf          3787.4791   1800.048      2.104      0.036     252.504    7322.454\n",
       "GarageQual_Ex             3857.7788   6395.270      0.603      0.547   -8701.396    1.64e+04\n",
       "GarageQual_Fa            -5711.8138   5227.801     -1.093      0.275    -1.6e+04    4554.660\n",
       "GarageQual_Gd             1.087e+04   7405.503      1.467      0.143   -3676.568    2.54e+04\n",
       "GarageQual_No Garage      1611.7606   1769.023      0.911      0.363   -1862.286    5085.807\n",
       "GarageQual_Po                     0          0        nan        nan           0           0\n",
       "GarageQual_TA             2701.2948   3870.065      0.698      0.485   -4898.827    1.03e+04\n",
       "GarageCond_Ex             3857.7788   6395.270      0.603      0.547   -8701.396    1.64e+04\n",
       "GarageCond_Fa            -5931.6472   6931.792     -0.856      0.392   -1.95e+04    7681.161\n",
       "GarageCond_Gd             3917.5187   9387.021      0.417      0.677   -1.45e+04    2.24e+04\n",
       "GarageCond_No Garage      1611.7606   1769.023      0.911      0.363   -1862.286    5085.807\n",
       "GarageCond_Po             9405.2894    1.5e+04      0.627      0.531   -2.01e+04    3.89e+04\n",
       "GarageCond_TA              464.8460   5380.312      0.086      0.931   -1.01e+04     1.1e+04\n",
       "PavedDrive_N              7064.6020   3269.168      2.161      0.031     644.537    1.35e+04\n",
       "PavedDrive_P               918.7346   4147.905      0.221      0.825   -7227.014    9064.483\n",
       "PavedDrive_Y              5342.2096   2706.584      1.974      0.049      26.959    1.07e+04\n",
       "PoolQC_No Pool            1.333e+04   2178.289      6.117      0.000    9047.773    1.76e+04\n",
       "Fence_GdPrv               2420.8700   4093.444      0.591      0.554   -5617.928    1.05e+04\n",
       "Fence_GdWo                3508.6488   3570.629      0.983      0.326   -3503.433    1.05e+04\n",
       "Fence_MnPrv               5796.2033   2777.244      2.087      0.037     342.190    1.13e+04\n",
       "Fence_MnWw               -3456.9503   6793.835     -0.509      0.611   -1.68e+04    9884.936\n",
       "Fence_No Fence            5056.7744   2370.186      2.133      0.033     402.150    9711.399\n",
       "MiscFeature_None          3322.3013   2487.796      1.335      0.182   -1563.288    8207.890\n",
       "MiscFeature_Shed              1e+04   2682.370      3.729      0.000    4735.546    1.53e+04\n",
       "SaleType_COD             -3434.2107   6584.954     -0.522      0.602   -1.64e+04    9497.470\n",
       "SaleType_CWD               4.15e+04   1.35e+04      3.073      0.002     1.5e+04     6.8e+04\n",
       "SaleType_Con              1.237e+04   1.79e+04      0.692      0.489   -2.27e+04    4.75e+04\n",
       "SaleType_ConLD           -7131.8047   1.05e+04     -0.677      0.498   -2.78e+04    1.35e+04\n",
       "SaleType_ConLI           -4125.3259   1.14e+04     -0.361      0.718   -2.66e+04    1.83e+04\n",
       "SaleType_ConLw           -8076.5383   1.97e+04     -0.410      0.682   -4.67e+04    3.06e+04\n",
       "SaleType_New             -1.892e+04   1.41e+04     -1.346      0.179   -4.65e+04    8692.728\n",
       "SaleType_Oth              -383.6193   1.34e+04     -0.029      0.977   -2.66e+04    2.59e+04\n",
       "SaleType_WD               1530.5175   4953.654      0.309      0.757   -8197.579    1.13e+04\n",
       "SaleCondition_Abnorml     2100.9827   5571.741      0.377      0.706   -8840.927     1.3e+04\n",
       "SaleCondition_AdjLand      2.63e+04   1.53e+04      1.717      0.087   -3787.507    5.64e+04\n",
       "SaleCondition_Alloca     -5.745e+04   1.74e+04     -3.311      0.001   -9.15e+04   -2.34e+04\n",
       "SaleCondition_Family     -1838.3893   7511.557     -0.245      0.807   -1.66e+04    1.29e+04\n",
       "SaleCondition_Normal      6724.2173   5173.617      1.300      0.194   -3435.848    1.69e+04\n",
       "SaleCondition_Partial     3.749e+04   1.37e+04      2.735      0.006    1.06e+04    6.44e+04\n",
       "==============================================================================\n",
       "Omnibus:                      158.266   Durbin-Watson:                   2.124\n",
       "Prob(Omnibus):                  0.000   Jarque-Bera (JB):             3625.343\n",
       "Skew:                           0.090   Prob(JB):                         0.00\n",
       "Kurtosis:                      13.325   Cond. No.                     1.25e+16\n",
       "==============================================================================\n",
       "\n",
       "Notes:\n",
       "[1] Standard Errors assume that the covariance matrix of the errors is correctly specified.\n",
       "[2] The smallest eigenvalue is 1.41e-28. This might indicate that there are\n",
       "strong multicollinearity problems or that the design matrix is singular.\n",
       "\"\"\""
      ]
     },
     "execution_count": 39,
     "metadata": {},
     "output_type": "execute_result"
    }
   ],
   "source": [
    "model.summary()"
   ]
  },
  {
   "cell_type": "code",
   "execution_count": 40,
   "id": "dcc72cde",
   "metadata": {},
   "outputs": [
    {
     "data": {
      "text/plain": [
       "0.925694687920248"
      ]
     },
     "execution_count": 40,
     "metadata": {},
     "output_type": "execute_result"
    }
   ],
   "source": [
    "model.rsquared_adj"
   ]
  },
  {
   "cell_type": "code",
   "execution_count": 41,
   "id": "67cbaa51",
   "metadata": {},
   "outputs": [],
   "source": [
    "col_drop = model.pvalues.sort_values().index[-1]"
   ]
  },
  {
   "cell_type": "code",
   "execution_count": 42,
   "id": "d93208f2",
   "metadata": {},
   "outputs": [
    {
     "data": {
      "text/plain": [
       "'GarageQual_Po'"
      ]
     },
     "execution_count": 42,
     "metadata": {},
     "output_type": "execute_result"
    }
   ],
   "source": [
    "col_drop"
   ]
  },
  {
   "cell_type": "code",
   "execution_count": 43,
   "id": "1a99fb80",
   "metadata": {},
   "outputs": [],
   "source": [
    "Xnew = Xnew.drop(labels=col_drop,axis=1)\n",
    "xtrain,xtest,ytrain,ytest=train_test_split(Xnew,Y,test_size=0.2,random_state=31)\n",
    "xconst = add_constant(xtrain,has_constant=\"add\")"
   ]
  },
  {
   "cell_type": "code",
   "execution_count": 44,
   "id": "85b0f2ac",
   "metadata": {},
   "outputs": [
    {
     "name": "stdout",
     "output_type": "stream",
     "text": [
      "0.925694687920248\n"
     ]
    }
   ],
   "source": [
    "ols = OLS(ytrain,xconst)\n",
    "model = ols.fit()\n",
    "print(model.rsquared_adj)"
   ]
  },
  {
   "cell_type": "code",
   "execution_count": 45,
   "id": "a406256c",
   "metadata": {},
   "outputs": [],
   "source": [
    "col_drop = model.pvalues.sort_values().index[-1]"
   ]
  },
  {
   "cell_type": "code",
   "execution_count": 46,
   "id": "015be11e",
   "metadata": {},
   "outputs": [
    {
     "data": {
      "text/plain": [
       "'Neighborhood_SawyerW'"
      ]
     },
     "execution_count": 46,
     "metadata": {},
     "output_type": "execute_result"
    }
   ],
   "source": [
    "col_drop"
   ]
  },
  {
   "cell_type": "code",
   "execution_count": 47,
   "id": "0ba67a22",
   "metadata": {},
   "outputs": [
    {
     "name": "stdout",
     "output_type": "stream",
     "text": [
      "0.925694687920248\n",
      "Foundation_PConc\n"
     ]
    }
   ],
   "source": [
    "Xnew = Xnew.drop(labels=col_drop,axis=1)\n",
    "xtrain,xtest,ytrain,ytest=train_test_split(Xnew,Y,test_size=0.2,random_state=31)\n",
    "xconst = add_constant(xtrain,has_constant=\"add\")\n",
    "ols = OLS(ytrain,xconst)\n",
    "model = ols.fit()\n",
    "print(model.rsquared_adj)\n",
    "col_drop = model.pvalues.sort_values().index[-1]\n",
    "print(col_drop)"
   ]
  },
  {
   "cell_type": "code",
   "execution_count": 48,
   "id": "e1569d1c",
   "metadata": {},
   "outputs": [
    {
     "name": "stdout",
     "output_type": "stream",
     "text": [
      "0.9257\n",
      "Exterior1st_WdShing\n",
      "0.9257\n",
      "Condition2_RRNn\n",
      "0.9257\n",
      "BsmtFinType2_Unf\n",
      "0.9257\n",
      "BsmtFinType1_BLQ\n",
      "0.9257\n",
      "SaleType_Oth\n",
      "0.9257\n",
      "Foundation_Slab\n",
      "0.9258\n",
      "BsmtFinSF1\n",
      "0.9259\n",
      "BldgType_Twnhs\n"
     ]
    }
   ],
   "source": [
    "for i in range(0,8):\n",
    "    Xnew = Xnew.drop(labels=col_drop,axis=1)\n",
    "    xtrain,xtest,ytrain,ytest=train_test_split(Xnew,Y,test_size=0.2,random_state=31)\n",
    "    xconst = add_constant(xtrain,has_constant=\"add\")\n",
    "    ols = OLS(ytrain,xconst)\n",
    "    model = ols.fit()\n",
    "    print(round(model.rsquared_adj,4))\n",
    "    col_drop = model.pvalues.sort_values().index[-1]\n",
    "    print(col_drop)"
   ]
  },
  {
   "cell_type": "code",
   "execution_count": 49,
   "id": "6ec6df41",
   "metadata": {},
   "outputs": [
    {
     "name": "stdout",
     "output_type": "stream",
     "text": [
      "0.9259\n",
      "Condition1_RRNe\n",
      "0.9259\n",
      "Exterior2nd_Plywood\n",
      "0.9259\n",
      "Foundation_Wood\n",
      "0.9259\n",
      "Exterior2nd_Wd Shng\n",
      "0.9261\n",
      "Exterior1st_MetalSd\n",
      "0.9262\n",
      "GarageCond_TA\n",
      "0.9262\n",
      "Condition2_Norm\n",
      "0.9262\n",
      "Functional_Maj2\n"
     ]
    }
   ],
   "source": [
    "for i in range(0,8):\n",
    "    Xnew = Xnew.drop(labels=col_drop,axis=1)\n",
    "    xtrain,xtest,ytrain,ytest=train_test_split(Xnew,Y,test_size=0.2,random_state=31)\n",
    "    xconst = add_constant(xtrain,has_constant=\"add\")\n",
    "    ols = OLS(ytrain,xconst)\n",
    "    model = ols.fit()\n",
    "    print(round(model.rsquared_adj,4))\n",
    "    col_drop = model.pvalues.sort_values().index[-1]\n",
    "    print(col_drop)"
   ]
  },
  {
   "cell_type": "code",
   "execution_count": 50,
   "id": "2485bbc1",
   "metadata": {},
   "outputs": [
    {
     "name": "stdout",
     "output_type": "stream",
     "text": [
      "0.9262\n",
      "Functional_Min1\n",
      "0.9263\n",
      "Heating_GasW\n",
      "0.9263\n",
      "Heating_Floor\n",
      "0.9263\n",
      "BsmtFinType1_Rec\n",
      "0.9264\n",
      "Electrical_FuseP\n",
      "0.9264\n",
      "SaleType_WD\n",
      "0.9265\n",
      "LotConfig_FR2\n",
      "0.9265\n",
      "1stFlrSF\n"
     ]
    }
   ],
   "source": [
    "for i in range(0,8):\n",
    "    Xnew = Xnew.drop(labels=col_drop,axis=1)\n",
    "    xtrain,xtest,ytrain,ytest=train_test_split(Xnew,Y,test_size=0.2,random_state=31)\n",
    "    xconst = add_constant(xtrain,has_constant=\"add\")\n",
    "    ols = OLS(ytrain,xconst)\n",
    "    model = ols.fit()\n",
    "    print(round(model.rsquared_adj,4))\n",
    "    col_drop = model.pvalues.sort_values().index[-1]\n",
    "    print(col_drop)"
   ]
  },
  {
   "cell_type": "code",
   "execution_count": 51,
   "id": "ff298bc8",
   "metadata": {},
   "outputs": [
    {
     "name": "stdout",
     "output_type": "stream",
     "text": [
      "0.9266\n",
      "HouseStyle_1.5Fin\n",
      "0.9266\n",
      "MSZoning_RH\n",
      "0.9266\n",
      "RoofStyle_Gable\n",
      "0.9266\n",
      "KitchenQual_TA\n",
      "0.9266\n",
      "Exterior2nd_Brk Cmn\n",
      "0.9268\n",
      "Neighborhood_BrkSide\n",
      "0.9269\n",
      "Neighborhood_Blueste\n",
      "0.927\n",
      "BsmtFullBath\n"
     ]
    }
   ],
   "source": [
    "for i in range(0,8):\n",
    "    Xnew = Xnew.drop(labels=col_drop,axis=1)\n",
    "    xtrain,xtest,ytrain,ytest=train_test_split(Xnew,Y,test_size=0.2,random_state=31)\n",
    "    xconst = add_constant(xtrain,has_constant=\"add\")\n",
    "    ols = OLS(ytrain,xconst)\n",
    "    model = ols.fit()\n",
    "    print(round(model.rsquared_adj,4))\n",
    "    col_drop = model.pvalues.sort_values().index[-1]\n",
    "    print(col_drop)"
   ]
  },
  {
   "cell_type": "code",
   "execution_count": 52,
   "id": "e69d8ff4",
   "metadata": {},
   "outputs": [
    {
     "name": "stdout",
     "output_type": "stream",
     "text": [
      "0.9271\n",
      "PavedDrive_P\n",
      "0.9271\n",
      "HouseStyle_SLvl\n",
      "0.9272\n",
      "RoofMatl_WdShake\n",
      "0.9272\n",
      "RoofStyle_Flat\n",
      "0.9272\n",
      "RoofMatl_Tar&Grv\n",
      "0.9273\n",
      "HeatingQC_Fa\n",
      "0.9273\n",
      "HeatingQC_Gd\n",
      "0.9274\n",
      "LotFrontage\n"
     ]
    }
   ],
   "source": [
    "for i in range(0,8):\n",
    "    Xnew = Xnew.drop(labels=col_drop,axis=1)\n",
    "    xtrain,xtest,ytrain,ytest=train_test_split(Xnew,Y,test_size=0.2,random_state=31)\n",
    "    xconst = add_constant(xtrain,has_constant=\"add\")\n",
    "    ols = OLS(ytrain,xconst)\n",
    "    model = ols.fit()\n",
    "    print(round(model.rsquared_adj,4))\n",
    "    col_drop = model.pvalues.sort_values().index[-1]\n",
    "    print(col_drop)"
   ]
  },
  {
   "cell_type": "code",
   "execution_count": 53,
   "id": "f2356342",
   "metadata": {},
   "outputs": [
    {
     "name": "stdout",
     "output_type": "stream",
     "text": [
      "0.9275\n",
      "HalfBath\n",
      "0.9276\n",
      "Foundation_CBlock\n",
      "0.9278\n",
      "MasVnrType_BrkCmn\n",
      "0.9278\n",
      "Fireplaces\n",
      "0.9279\n",
      "MasVnrType_None\n",
      "0.928\n",
      "SaleCondition_Family\n",
      "0.928\n",
      "TotRmsAbvGrd\n",
      "0.9281\n",
      "KitchenQual_Fa\n"
     ]
    }
   ],
   "source": [
    "for i in range(0,8):\n",
    "    Xnew = Xnew.drop(labels=col_drop,axis=1)\n",
    "    xtrain,xtest,ytrain,ytest=train_test_split(Xnew,Y,test_size=0.2,random_state=31)\n",
    "    xconst = add_constant(xtrain,has_constant=\"add\")\n",
    "    ols = OLS(ytrain,xconst)\n",
    "    model = ols.fit()\n",
    "    print(round(model.rsquared_adj,4))\n",
    "    col_drop = model.pvalues.sort_values().index[-1]\n",
    "    print(col_drop)"
   ]
  },
  {
   "cell_type": "code",
   "execution_count": 54,
   "id": "8426df1f",
   "metadata": {},
   "outputs": [
    {
     "name": "stdout",
     "output_type": "stream",
     "text": [
      "0.9282\n",
      "Condition2_Feedr\n",
      "0.9283\n",
      "Heating_Grav\n",
      "0.9284\n",
      "Exterior2nd_ImStucc\n",
      "0.9285\n",
      "RoofStyle_Mansard\n",
      "0.9286\n",
      "GarageCond_Gd\n",
      "0.9287\n",
      "FireplaceQu_No Fireplace\n",
      "0.9287\n",
      "RoofMatl_WdShngl\n",
      "0.9288\n",
      "BsmtCond_Fa\n"
     ]
    }
   ],
   "source": [
    "for i in range(0,8):\n",
    "    Xnew = Xnew.drop(labels=col_drop,axis=1)\n",
    "    xtrain,xtest,ytrain,ytest=train_test_split(Xnew,Y,test_size=0.2,random_state=31)\n",
    "    xconst = add_constant(xtrain,has_constant=\"add\")\n",
    "    ols = OLS(ytrain,xconst)\n",
    "    model = ols.fit()\n",
    "    print(round(model.rsquared_adj,4))\n",
    "    col_drop = model.pvalues.sort_values().index[-1]\n",
    "    print(col_drop)"
   ]
  },
  {
   "cell_type": "code",
   "execution_count": 55,
   "id": "f16c17d2",
   "metadata": {},
   "outputs": [
    {
     "name": "stdout",
     "output_type": "stream",
     "text": [
      "0.9288\n",
      "RoofStyle_Gambrel\n",
      "0.9289\n",
      "BldgType_Duplex\n",
      "0.929\n",
      "GarageType_BuiltIn\n",
      "0.929\n",
      "GarageType_Detchd\n",
      "0.9291\n",
      "GarageType_Basment\n",
      "0.9292\n",
      "BsmtExposure_Av\n",
      "0.9292\n",
      "Heating_GasA\n",
      "0.9292\n",
      "SaleType_ConLw\n"
     ]
    }
   ],
   "source": [
    "for i in range(0,8):\n",
    "    Xnew = Xnew.drop(labels=col_drop,axis=1)\n",
    "    xtrain,xtest,ytrain,ytest=train_test_split(Xnew,Y,test_size=0.2,random_state=31)\n",
    "    xconst = add_constant(xtrain,has_constant=\"add\")\n",
    "    ols = OLS(ytrain,xconst)\n",
    "    model = ols.fit()\n",
    "    print(round(model.rsquared_adj,4))\n",
    "    col_drop = model.pvalues.sort_values().index[-1]\n",
    "    print(col_drop)"
   ]
  },
  {
   "cell_type": "code",
   "execution_count": 56,
   "id": "37a345b0",
   "metadata": {},
   "outputs": [
    {
     "name": "stdout",
     "output_type": "stream",
     "text": [
      "0.9293\n",
      "BsmtFinType2_ALQ\n",
      "0.9294\n",
      "BsmtFinType1_LwQ\n",
      "0.9295\n",
      "BldgType_TwnhsE\n",
      "0.9296\n",
      "Exterior1st_CBlock\n",
      "0.9296\n",
      "Exterior2nd_CBlock\n",
      "0.9297\n",
      "HouseStyle_SFoyer\n",
      "0.9298\n",
      "FullBath\n",
      "0.9299\n",
      "SaleType_ConLI\n"
     ]
    }
   ],
   "source": [
    "for i in range(0,8):\n",
    "    Xnew = Xnew.drop(labels=col_drop,axis=1)\n",
    "    xtrain,xtest,ytrain,ytest=train_test_split(Xnew,Y,test_size=0.2,random_state=31)\n",
    "    xconst = add_constant(xtrain,has_constant=\"add\")\n",
    "    ols = OLS(ytrain,xconst)\n",
    "    model = ols.fit()\n",
    "    print(round(model.rsquared_adj,4))\n",
    "    col_drop = model.pvalues.sort_values().index[-1]\n",
    "    print(col_drop)"
   ]
  },
  {
   "cell_type": "code",
   "execution_count": 57,
   "id": "2868e401",
   "metadata": {},
   "outputs": [
    {
     "name": "stdout",
     "output_type": "stream",
     "text": [
      "0.9299\n",
      "Exterior2nd_BrkFace\n",
      "0.93\n",
      "Condition1_RRAn\n",
      "0.93\n",
      "Condition1_Feedr\n",
      "0.9301\n",
      "Fence_MnWw\n",
      "0.9301\n",
      "Alley_Pave\n",
      "0.9301\n",
      "Alley_No alley access\n",
      "0.9302\n",
      "Alley_Grvl\n",
      "0.9303\n",
      "GarageCond_Ex\n"
     ]
    }
   ],
   "source": [
    "for i in range(0,8):\n",
    "    Xnew = Xnew.drop(labels=col_drop,axis=1)\n",
    "    xtrain,xtest,ytrain,ytest=train_test_split(Xnew,Y,test_size=0.2,random_state=31)\n",
    "    xconst = add_constant(xtrain,has_constant=\"add\")\n",
    "    ols = OLS(ytrain,xconst)\n",
    "    model = ols.fit()\n",
    "    print(round(model.rsquared_adj,4))\n",
    "    col_drop = model.pvalues.sort_values().index[-1]\n",
    "    print(col_drop)"
   ]
  },
  {
   "cell_type": "code",
   "execution_count": 58,
   "id": "326616ce",
   "metadata": {},
   "outputs": [
    {
     "name": "stdout",
     "output_type": "stream",
     "text": [
      "0.9303\n",
      "GarageQual_TA\n",
      "0.9303\n",
      "GarageQual_Ex\n",
      "0.9304\n",
      "Neighborhood_Veenker\n",
      "0.9305\n",
      "Exterior2nd_AsbShng\n",
      "0.9305\n",
      "Exterior2nd_Stone\n",
      "0.9306\n",
      "ExterQual_Gd\n",
      "0.9306\n",
      "ExterQual_TA\n",
      "0.9307\n",
      "SaleType_Con\n"
     ]
    }
   ],
   "source": [
    "for i in range(0,8):\n",
    "    Xnew = Xnew.drop(labels=col_drop,axis=1)\n",
    "    xtrain,xtest,ytrain,ytest=train_test_split(Xnew,Y,test_size=0.2,random_state=31)\n",
    "    xconst = add_constant(xtrain,has_constant=\"add\")\n",
    "    ols = OLS(ytrain,xconst)\n",
    "    model = ols.fit()\n",
    "    print(round(model.rsquared_adj,4))\n",
    "    col_drop = model.pvalues.sort_values().index[-1]\n",
    "    print(col_drop)"
   ]
  },
  {
   "cell_type": "code",
   "execution_count": 59,
   "id": "cdcca513",
   "metadata": {},
   "outputs": [
    {
     "name": "stdout",
     "output_type": "stream",
     "text": [
      "0.9308\n",
      "Condition1_RRNn\n",
      "0.9308\n",
      "LotConfig_FR3\n",
      "0.9309\n",
      "SaleCondition_Abnorml\n",
      "0.931\n",
      "BsmtFinType2_Rec\n",
      "0.931\n",
      "Exterior1st_Stucco\n",
      "0.9311\n",
      "MSZoning_RL\n",
      "0.9312\n",
      "MSZoning_RM\n",
      "0.9312\n",
      "Neighborhood_IDOTRR\n"
     ]
    }
   ],
   "source": [
    "for i in range(0,8):\n",
    "    Xnew = Xnew.drop(labels=col_drop,axis=1)\n",
    "    xtrain,xtest,ytrain,ytest=train_test_split(Xnew,Y,test_size=0.2,random_state=31)\n",
    "    xconst = add_constant(xtrain,has_constant=\"add\")\n",
    "    ols = OLS(ytrain,xconst)\n",
    "    model = ols.fit()\n",
    "    print(round(model.rsquared_adj,4))\n",
    "    col_drop = model.pvalues.sort_values().index[-1]\n",
    "    print(col_drop)"
   ]
  },
  {
   "cell_type": "code",
   "execution_count": 60,
   "id": "c2e8d69c",
   "metadata": {},
   "outputs": [
    {
     "name": "stdout",
     "output_type": "stream",
     "text": [
      "0.9313\n",
      "SaleType_ConLD\n",
      "0.9314\n",
      "BldgType_2fmCon\n",
      "0.9314\n",
      "BsmtFinType2_LwQ\n",
      "0.9315\n",
      "BsmtFinType1_Unf\n",
      "0.9315\n",
      "GarageCond_Po\n",
      "0.9316\n",
      "PavedDrive_Y\n",
      "0.9317\n",
      "PavedDrive_N\n",
      "0.9317\n",
      "LandContour_Low\n"
     ]
    }
   ],
   "source": [
    "for i in range(0,8):\n",
    "    Xnew = Xnew.drop(labels=col_drop,axis=1)\n",
    "    xtrain,xtest,ytrain,ytest=train_test_split(Xnew,Y,test_size=0.2,random_state=31)\n",
    "    xconst = add_constant(xtrain,has_constant=\"add\")\n",
    "    ols = OLS(ytrain,xconst)\n",
    "    model = ols.fit()\n",
    "    print(round(model.rsquared_adj,4))\n",
    "    col_drop = model.pvalues.sort_values().index[-1]\n",
    "    print(col_drop)"
   ]
  },
  {
   "cell_type": "code",
   "execution_count": 61,
   "id": "efa75dd0",
   "metadata": {},
   "outputs": [
    {
     "name": "stdout",
     "output_type": "stream",
     "text": [
      "0.9317\n",
      "Exterior1st_CemntBd\n",
      "0.9318\n",
      "Fence_GdPrv\n",
      "0.9318\n",
      "Fence_GdWo\n",
      "0.9319\n",
      "Fence_MnPrv\n",
      "0.9319\n",
      "Fence_No Fence\n",
      "0.932\n",
      "Exterior1st_ImStucc\n",
      "0.9321\n",
      "Condition1_PosA\n",
      "0.9321\n",
      "Exterior2nd_HdBoard\n"
     ]
    }
   ],
   "source": [
    "for i in range(0,8):\n",
    "    Xnew = Xnew.drop(labels=col_drop,axis=1)\n",
    "    xtrain,xtest,ytrain,ytest=train_test_split(Xnew,Y,test_size=0.2,random_state=31)\n",
    "    xconst = add_constant(xtrain,has_constant=\"add\")\n",
    "    ols = OLS(ytrain,xconst)\n",
    "    model = ols.fit()\n",
    "    print(round(model.rsquared_adj,4))\n",
    "    col_drop = model.pvalues.sort_values().index[-1]\n",
    "    print(col_drop)"
   ]
  },
  {
   "cell_type": "code",
   "execution_count": 62,
   "id": "45854848",
   "metadata": {},
   "outputs": [
    {
     "name": "stdout",
     "output_type": "stream",
     "text": [
      "0.9322\n",
      "LotShape_IR3\n",
      "0.9322\n",
      "BedroomAbvGr\n",
      "0.9322\n",
      "Condition1_Artery\n",
      "0.9322\n",
      "SaleType_COD\n",
      "0.9322\n",
      "Exterior2nd_Other\n",
      "0.9323\n",
      "HeatingQC_TA\n",
      "0.9323\n",
      "MasVnrArea\n",
      "0.9323\n",
      "MasVnrType_BrkFace\n"
     ]
    }
   ],
   "source": [
    "for i in range(0,8):\n",
    "    Xnew = Xnew.drop(labels=col_drop,axis=1)\n",
    "    xtrain,xtest,ytrain,ytest=train_test_split(Xnew,Y,test_size=0.2,random_state=31)\n",
    "    xconst = add_constant(xtrain,has_constant=\"add\")\n",
    "    ols = OLS(ytrain,xconst)\n",
    "    model = ols.fit()\n",
    "    print(round(model.rsquared_adj,4))\n",
    "    col_drop = model.pvalues.sort_values().index[-1]\n",
    "    print(col_drop)"
   ]
  },
  {
   "cell_type": "code",
   "execution_count": 63,
   "id": "80c20bdb",
   "metadata": {},
   "outputs": [
    {
     "name": "stdout",
     "output_type": "stream",
     "text": [
      "0.9323\n",
      "BsmtFinType2_BLQ\n",
      "0.9324\n",
      "GarageCond_Fa\n",
      "0.9324\n",
      "Neighborhood_Somerst\n",
      "0.9323\n",
      "SaleType_New\n",
      "0.9323\n",
      "Exterior1st_AsbShng\n",
      "0.9323\n",
      "BsmtCond_Gd\n",
      "0.9323\n",
      "BsmtQual_No Basement\n",
      "0.9323\n",
      "BsmtCond_No Basement\n"
     ]
    }
   ],
   "source": [
    "for i in range(0,8):\n",
    "    Xnew = Xnew.drop(labels=col_drop,axis=1)\n",
    "    xtrain,xtest,ytrain,ytest=train_test_split(Xnew,Y,test_size=0.2,random_state=31)\n",
    "    xconst = add_constant(xtrain,has_constant=\"add\")\n",
    "    ols = OLS(ytrain,xconst)\n",
    "    model = ols.fit()\n",
    "    print(round(model.rsquared_adj,4))\n",
    "    col_drop = model.pvalues.sort_values().index[-1]\n",
    "    print(col_drop)"
   ]
  },
  {
   "cell_type": "code",
   "execution_count": 64,
   "id": "21b996ee",
   "metadata": {},
   "outputs": [
    {
     "name": "stdout",
     "output_type": "stream",
     "text": [
      "0.9323\n",
      "BsmtFinType2_No Basement\n",
      "0.9323\n",
      "BsmtFinType1_No Basement\n",
      "0.9323\n",
      "BsmtExposure_No Basement\n",
      "0.9323\n",
      "BsmtQual_Fa\n",
      "0.9324\n",
      "FireplaceQu_TA\n",
      "0.9324\n",
      "FireplaceQu_Ex\n",
      "0.9324\n",
      "Neighborhood_Gilbert\n",
      "0.9324\n",
      "Neighborhood_Sawyer\n"
     ]
    }
   ],
   "source": [
    "for i in range(0,8):\n",
    "    Xnew = Xnew.drop(labels=col_drop,axis=1)\n",
    "    xtrain,xtest,ytrain,ytest=train_test_split(Xnew,Y,test_size=0.2,random_state=31)\n",
    "    xconst = add_constant(xtrain,has_constant=\"add\")\n",
    "    ols = OLS(ytrain,xconst)\n",
    "    model = ols.fit()\n",
    "    print(round(model.rsquared_adj,4))\n",
    "    col_drop = model.pvalues.sort_values().index[-1]\n",
    "    print(col_drop)"
   ]
  },
  {
   "cell_type": "code",
   "execution_count": 65,
   "id": "ae479af4",
   "metadata": {},
   "outputs": [
    {
     "name": "stdout",
     "output_type": "stream",
     "text": [
      "0.9325\n",
      "LotShape_IR2\n",
      "0.9325\n",
      "LotShape_Reg\n",
      "0.9325\n",
      "LotShape_IR1\n",
      "0.9326\n",
      "GarageType_Attchd\n",
      "0.9326\n",
      "Foundation_Stone\n",
      "0.9326\n",
      "Neighborhood_CollgCr\n",
      "0.9325\n",
      "Neighborhood_Timber\n",
      "0.9326\n",
      "Heating_Wall\n"
     ]
    }
   ],
   "source": [
    "for i in range(0,8):\n",
    "    Xnew = Xnew.drop(labels=col_drop,axis=1)\n",
    "    xtrain,xtest,ytrain,ytest=train_test_split(Xnew,Y,test_size=0.2,random_state=31)\n",
    "    xconst = add_constant(xtrain,has_constant=\"add\")\n",
    "    ols = OLS(ytrain,xconst)\n",
    "    model = ols.fit()\n",
    "    print(round(model.rsquared_adj,4))\n",
    "    col_drop = model.pvalues.sort_values().index[-1]\n",
    "    print(col_drop)"
   ]
  },
  {
   "cell_type": "code",
   "execution_count": 66,
   "id": "0ceb5ec7",
   "metadata": {},
   "outputs": [
    {
     "name": "stdout",
     "output_type": "stream",
     "text": [
      "0.9325\n",
      "Exterior1st_BrkComm\n",
      "0.9325\n",
      "Exterior2nd_CmentBd\n",
      "0.9325\n",
      "Exterior2nd_MetalSd\n",
      "0.9326\n",
      "BsmtExposure_Mn\n",
      "0.9326\n",
      "ExterQual_Fa\n",
      "0.9326\n",
      "FireplaceQu_Gd\n",
      "0.9326\n",
      "BsmtCond_TA\n",
      "0.9325\n",
      "RoofStyle_Hip\n"
     ]
    }
   ],
   "source": [
    "for i in range(0,8):\n",
    "    Xnew = Xnew.drop(labels=col_drop,axis=1)\n",
    "    xtrain,xtest,ytrain,ytest=train_test_split(Xnew,Y,test_size=0.2,random_state=31)\n",
    "    xconst = add_constant(xtrain,has_constant=\"add\")\n",
    "    ols = OLS(ytrain,xconst)\n",
    "    model = ols.fit()\n",
    "    print(round(model.rsquared_adj,4))\n",
    "    col_drop = model.pvalues.sort_values().index[-1]\n",
    "    print(col_drop)"
   ]
  },
  {
   "cell_type": "code",
   "execution_count": 67,
   "id": "88f45dc0",
   "metadata": {},
   "outputs": [
    {
     "name": "stdout",
     "output_type": "stream",
     "text": [
      "0.9325\n",
      "Neighborhood_MeadowV\n",
      "0.9324\n",
      "BsmtFinType2_GLQ\n",
      "0.9323\n",
      "Functional_Min2\n",
      "0.9323\n",
      "Functional_Maj1\n",
      "0.9322\n",
      "KitchenQual_Gd\n",
      "0.9322\n",
      "ExterCond_Fa\n",
      "0.9322\n",
      "Neighborhood_SWISU\n",
      "0.9321\n",
      "LandContour_Bnk\n"
     ]
    }
   ],
   "source": [
    "for i in range(0,8):\n",
    "    Xnew = Xnew.drop(labels=col_drop,axis=1)\n",
    "    xtrain,xtest,ytrain,ytest=train_test_split(Xnew,Y,test_size=0.2,random_state=31)\n",
    "    xconst = add_constant(xtrain,has_constant=\"add\")\n",
    "    ols = OLS(ytrain,xconst)\n",
    "    model = ols.fit()\n",
    "    print(round(model.rsquared_adj,4))\n",
    "    col_drop = model.pvalues.sort_values().index[-1]\n",
    "    print(col_drop)"
   ]
  },
  {
   "cell_type": "markdown",
   "id": "e82aabbc",
   "metadata": {},
   "source": [
    "Check for overfitting"
   ]
  },
  {
   "cell_type": "code",
   "execution_count": 68,
   "id": "99f8f1a1",
   "metadata": {},
   "outputs": [],
   "source": [
    "from sklearn.linear_model import LinearRegression\n",
    "lm = LinearRegression()\n",
    "model = lm.fit(xtrain,ytrain)\n",
    "tr_pred = model.predict(xtrain) \n",
    "ts_pred = model.predict(xtest)\n",
    "\n",
    "from sklearn.metrics import mean_squared_error\n",
    "tr_err = round(mean_squared_error(ytrain,tr_pred),2)\n",
    "ts_err = round(mean_squared_error(ytest,ts_pred),2)"
   ]
  },
  {
   "cell_type": "code",
   "execution_count": 69,
   "id": "03959bcd",
   "metadata": {},
   "outputs": [
    {
     "data": {
      "text/plain": [
       "275462530.41"
      ]
     },
     "execution_count": 69,
     "metadata": {},
     "output_type": "execute_result"
    }
   ],
   "source": [
    "tr_err"
   ]
  },
  {
   "cell_type": "code",
   "execution_count": 70,
   "id": "73be0f8a",
   "metadata": {},
   "outputs": [
    {
     "data": {
      "text/plain": [
       "8.174732492804471e+27"
      ]
     },
     "execution_count": 70,
     "metadata": {},
     "output_type": "execute_result"
    }
   ],
   "source": [
    "ts_err"
   ]
  },
  {
   "cell_type": "markdown",
   "id": "06dc5492",
   "metadata": {},
   "source": [
    "Regularize"
   ]
  },
  {
   "cell_type": "code",
   "execution_count": 71,
   "id": "3449a08c",
   "metadata": {},
   "outputs": [],
   "source": [
    "tr = []\n",
    "ts = []"
   ]
  },
  {
   "cell_type": "markdown",
   "id": "2c0bb478",
   "metadata": {},
   "source": [
    "Ridge Regression"
   ]
  },
  {
   "cell_type": "code",
   "execution_count": 72,
   "id": "9cf2ee52",
   "metadata": {},
   "outputs": [],
   "source": [
    "w = []\n",
    "y = 0.0\n",
    "for i in range(0,1000):\n",
    "    y = round(y + 0.01,2)\n",
    "    w.append(y)"
   ]
  },
  {
   "cell_type": "code",
   "execution_count": 73,
   "id": "835411a4",
   "metadata": {},
   "outputs": [],
   "source": [
    "from sklearn.linear_model import Ridge"
   ]
  },
  {
   "cell_type": "code",
   "execution_count": 74,
   "id": "038909a5",
   "metadata": {},
   "outputs": [],
   "source": [
    "for i in w:\n",
    "    rr = Ridge(alpha=i)\n",
    "    model = rr.fit(xtrain,ytrain)\n",
    "    tr_pred = model.predict(xtrain) \n",
    "    ts_pred = model.predict(xtest)\n",
    "    tr_err = round(mean_squared_error(ytrain,tr_pred),2)\n",
    "    ts_err = round(mean_squared_error(ytest,ts_pred),2)\n",
    "    tr.append(tr_err)\n",
    "    ts.append(ts_err)"
   ]
  },
  {
   "cell_type": "code",
   "execution_count": 75,
   "id": "114c0c2b",
   "metadata": {},
   "outputs": [
    {
     "data": {
      "text/plain": [
       "[<matplotlib.lines.Line2D at 0x137f1800bb0>]"
      ]
     },
     "execution_count": 75,
     "metadata": {},
     "output_type": "execute_result"
    },
    {
     "data": {
      "image/png": "[encoded data removed]",
      "text/plain": [
       "<Figure size 432x288 with 1 Axes>"
      ]
     },
     "metadata": {
      "needs_background": "light"
     },
     "output_type": "display_data"
    }
   ],
   "source": [
    "import matplotlib.pyplot as plt\n",
    "plt.plot(w,tr,c=\"red\")\n",
    "plt.plot(w,ts,c=\"green\")"
   ]
  },
  {
   "cell_type": "code",
   "execution_count": 77,
   "id": "a4259be3",
   "metadata": {},
   "outputs": [
    {
     "name": "stdout",
     "output_type": "stream",
     "text": [
      "313770563.0 313303686.8\n"
     ]
    }
   ],
   "source": [
    "rr = Ridge(alpha=9.5)\n",
    "model = rr.fit(xtrain,ytrain)\n",
    "tr_pred = model.predict(xtrain) \n",
    "ts_pred = model.predict(xtest)\n",
    "tr_err = round(mean_squared_error(ytrain,tr_pred),2)\n",
    "ts_err = round(mean_squared_error(ytest,ts_pred),2)\n",
    "print(tr_err,ts_err)"
   ]
  },
  {
   "cell_type": "markdown",
   "id": "646dd939",
   "metadata": {},
   "source": [
    "Lasso Regression"
   ]
  },
  {
   "cell_type": "code",
   "execution_count": 78,
   "id": "7cfa6bbd",
   "metadata": {},
   "outputs": [],
   "source": [
    "w = []\n",
    "y = 70.0\n",
    "for i in range(0,1000):\n",
    "    y = round(y + 0.01,2)\n",
    "    w.append(y)    "
   ]
  },
  {
   "cell_type": "code",
   "execution_count": 79,
   "id": "a27c911c",
   "metadata": {},
   "outputs": [],
   "source": [
    "from sklearn.linear_model import Lasso\n",
    "tr = []\n",
    "ts = []\n",
    "for i in w:\n",
    "    rr = Lasso(alpha=i)\n",
    "    model = rr.fit(xtrain,ytrain)\n",
    "    tr_pred = model.predict(xtrain) \n",
    "    ts_pred = model.predict(xtest)\n",
    "    tr_err = round(mean_squared_error(ytrain,tr_pred),2)\n",
    "    ts_err = round(mean_squared_error(ytest,ts_pred),2)\n",
    "    tr.append(tr_err)\n",
    "    ts.append(ts_err)"
   ]
  },
  {
   "cell_type": "code",
   "execution_count": 80,
   "id": "aa3910c9",
   "metadata": {},
   "outputs": [
    {
     "data": {
      "text/plain": [
       "[<matplotlib.lines.Line2D at 0x137f1914a00>]"
      ]
     },
     "execution_count": 80,
     "metadata": {},
     "output_type": "execute_result"
    },
    {
     "data": {
      "image/png": "[encoded data removed]",
      "text/plain": [
       "<Figure size 432x288 with 1 Axes>"
      ]
     },
     "metadata": {
      "needs_background": "light"
     },
     "output_type": "display_data"
    }
   ],
   "source": [
    "import matplotlib.pyplot as plt\n",
    "plt.plot(w,tr,c=\"red\")\n",
    "plt.plot(w,ts,c=\"green\")"
   ]
  },
  {
   "cell_type": "code",
   "execution_count": 81,
   "id": "311c5611",
   "metadata": {},
   "outputs": [
    {
     "name": "stdout",
     "output_type": "stream",
     "text": [
      "312655769.98 312664783.76\n"
     ]
    }
   ],
   "source": [
    "rr = Lasso(alpha=80)\n",
    "model = rr.fit(xtrain,ytrain)\n",
    "tr_pred = model.predict(xtrain) \n",
    "ts_pred = model.predict(xtest)\n",
    "tr_err = round(mean_squared_error(ytrain,tr_pred),2)\n",
    "ts_err = round(mean_squared_error(ytest,ts_pred),2)\n",
    "print(tr_err,ts_err)"
   ]
  },
  {
   "cell_type": "markdown",
   "id": "83511352",
   "metadata": {},
   "source": [
    "Making test set ready for prediction"
   ]
  },
  {
   "cell_type": "code",
   "execution_count": 82,
   "id": "8fd63708",
   "metadata": {},
   "outputs": [
    {
     "data": {
      "text/plain": [
       "['LotFrontage',\n",
       " 'LotArea',\n",
       " 'OverallQual',\n",
       " 'YearBuilt',\n",
       " 'YearRemodAdd',\n",
       " 'MasVnrArea',\n",
       " 'BsmtFinSF1',\n",
       " 'BsmtUnfSF',\n",
       " 'TotalBsmtSF',\n",
       " '1stFlrSF',\n",
       " '2ndFlrSF',\n",
       " 'GrLivArea',\n",
       " 'BsmtFullBath',\n",
       " 'FullBath',\n",
       " 'HalfBath',\n",
       " 'BedroomAbvGr',\n",
       " 'TotRmsAbvGrd',\n",
       " 'Fireplaces',\n",
       " 'GarageYrBlt',\n",
       " 'GarageCars',\n",
       " 'GarageArea',\n",
       " 'WoodDeckSF',\n",
       " 'OpenPorchSF',\n",
       " 'ScreenPorch']"
      ]
     },
     "execution_count": 82,
     "metadata": {},
     "output_type": "execute_result"
    }
   ],
   "source": [
    "con"
   ]
  },
  {
   "cell_type": "code",
   "execution_count": 83,
   "id": "35140f98",
   "metadata": {},
   "outputs": [
    {
     "data": {
      "text/plain": [
       "['MSZoning',\n",
       " 'Alley',\n",
       " 'LotShape',\n",
       " 'LandContour',\n",
       " 'LotConfig',\n",
       " 'Neighborhood',\n",
       " 'Condition1',\n",
       " 'Condition2',\n",
       " 'BldgType',\n",
       " 'HouseStyle',\n",
       " 'RoofStyle',\n",
       " 'RoofMatl',\n",
       " 'Exterior1st',\n",
       " 'Exterior2nd',\n",
       " 'MasVnrType',\n",
       " 'ExterQual',\n",
       " 'ExterCond',\n",
       " 'Foundation',\n",
       " 'BsmtQual',\n",
       " 'BsmtCond',\n",
       " 'BsmtExposure',\n",
       " 'BsmtFinType1',\n",
       " 'BsmtFinType2',\n",
       " 'Heating',\n",
       " 'HeatingQC',\n",
       " 'CentralAir',\n",
       " 'Electrical',\n",
       " 'KitchenQual',\n",
       " 'Functional',\n",
       " 'FireplaceQu',\n",
       " 'GarageType',\n",
       " 'GarageFinish',\n",
       " 'GarageQual',\n",
       " 'GarageCond',\n",
       " 'PavedDrive',\n",
       " 'PoolQC',\n",
       " 'Fence',\n",
       " 'MiscFeature',\n",
       " 'SaleType',\n",
       " 'SaleCondition']"
      ]
     },
     "execution_count": 83,
     "metadata": {},
     "output_type": "execute_result"
    }
   ],
   "source": [
    "cat"
   ]
  },
  {
   "cell_type": "code",
   "execution_count": 84,
   "id": "c8a8e5a9",
   "metadata": {},
   "outputs": [],
   "source": [
    "cols_to_keep = xtrain.columns"
   ]
  },
  {
   "cell_type": "code",
   "execution_count": 85,
   "id": "f9acd1e8",
   "metadata": {},
   "outputs": [],
   "source": [
    "cat = []\n",
    "con = []\n",
    "for i in test.columns:\n",
    "    if(test[i].dtypes == \"object\"):\n",
    "        cat.append(i)\n",
    "    else:\n",
    "        con.append(i)"
   ]
  },
  {
   "cell_type": "code",
   "execution_count": 86,
   "id": "c1dc712e",
   "metadata": {},
   "outputs": [],
   "source": [
    "test1 = test[['LotFrontage', 'LotArea', 'OverallQual', 'YearBuilt', 'YearRemodAdd',\n",
    "       'MasVnrArea', 'BsmtFinSF1', 'BsmtUnfSF', 'TotalBsmtSF', '1stFlrSF',\n",
    "       '2ndFlrSF', 'GrLivArea', 'BsmtFullBath', 'FullBath', 'HalfBath',\n",
    "       'BedroomAbvGr', 'TotRmsAbvGrd', 'Fireplaces', 'GarageYrBlt',\n",
    "       'GarageCars', 'GarageArea', 'WoodDeckSF', 'OpenPorchSF', 'ScreenPorch']]"
   ]
  },
  {
   "cell_type": "code",
   "execution_count": 87,
   "id": "f0e185bc",
   "metadata": {},
   "outputs": [],
   "source": [
    "Xtest1 = pd.DataFrame(ss.transform(test1),columns=test1.columns)"
   ]
  },
  {
   "cell_type": "code",
   "execution_count": 88,
   "id": "6fbb0cbb",
   "metadata": {},
   "outputs": [],
   "source": [
    "Xtest2 = pd.get_dummies(test[cat])"
   ]
  },
  {
   "cell_type": "code",
   "execution_count": 89,
   "id": "2be8b1bd",
   "metadata": {},
   "outputs": [],
   "source": [
    "Xtest_new = Xtest1.join(Xtest2)"
   ]
  },
  {
   "cell_type": "code",
   "execution_count": 90,
   "id": "05149859",
   "metadata": {},
   "outputs": [],
   "source": [
    "final_xtest = Xtest_new[cols_to_keep]"
   ]
  },
  {
   "cell_type": "code",
   "execution_count": 91,
   "id": "accc6ad1",
   "metadata": {},
   "outputs": [],
   "source": [
    "pred = model.predict(final_xtest)"
   ]
  },
  {
   "cell_type": "code",
   "execution_count": 92,
   "id": "082f93aa",
   "metadata": {},
   "outputs": [],
   "source": [
    "T = test[[\"Id\"]]\n",
    "T['SalePrice']=pred"
   ]
  },
  {
   "cell_type": "code",
   "execution_count": 93,
   "id": "c3b3ce23",
   "metadata": {},
   "outputs": [
    {
     "data": {
      "text/html": [
       "<div>\n",
       "<style scoped>\n",
       "    .dataframe tbody tr th:only-of-type {\n",
       "        vertical-align: middle;\n",
       "    }\n",
       "\n",
       "    .dataframe tbody tr th {\n",
       "        vertical-align: top;\n",
       "    }\n",
       "\n",
       "    .dataframe thead th {\n",
       "        text-align: right;\n",
       "    }\n",
       "</style>\n",
       "<table border=\"1\" class=\"dataframe\">\n",
       "  <thead>\n",
       "    <tr style=\"text-align: right;\">\n",
       "      <th></th>\n",
       "      <th>Id</th>\n",
       "      <th>SalePrice</th>\n",
       "    </tr>\n",
       "  </thead>\n",
       "  <tbody>\n",
       "    <tr>\n",
       "      <th>0</th>\n",
       "      <td>1461</td>\n",
       "      <td>125339.086822</td>\n",
       "    </tr>\n",
       "    <tr>\n",
       "      <th>1</th>\n",
       "      <td>1462</td>\n",
       "      <td>174173.178474</td>\n",
       "    </tr>\n",
       "    <tr>\n",
       "      <th>2</th>\n",
       "      <td>1463</td>\n",
       "      <td>192960.532165</td>\n",
       "    </tr>\n",
       "  </tbody>\n",
       "</table>\n",
       "</div>"
      ],
      "text/plain": [
       "     Id      SalePrice\n",
       "0  1461  125339.086822\n",
       "1  1462  174173.178474\n",
       "2  1463  192960.532165"
      ]
     },
     "execution_count": 93,
     "metadata": {},
     "output_type": "execute_result"
    }
   ],
   "source": [
    "T.head(3)"
   ]
  },
  {
   "cell_type": "code",
   "execution_count": 94,
   "id": "99ba1f0d",
   "metadata": {},
   "outputs": [],
   "source": [
    "T.to_csv(\"submissions.csv\")"
   ]
  },
  {
   "cell_type": "code",
   "execution_count": null,
   "id": "46f21660",
   "metadata": {},
   "outputs": [],
   "source": []
  }
 ],
 "metadata": {
  "kernelspec": {
   "display_name": "Python 3 (ipykernel)",
   "language": "python",
   "name": "python3"
  },
  "language_info": {
   "codemirror_mode": {
    "name": "ipython",
    "version": 3
   },
   "file_extension": ".py",
   "mimetype": "text/x-python",
   "name": "python",
   "nbconvert_exporter": "python",
   "pygments_lexer": "ipython3",
   "version": "3.9.12"
  }
 },
 "nbformat": 4,
 "nbformat_minor": 5
}
